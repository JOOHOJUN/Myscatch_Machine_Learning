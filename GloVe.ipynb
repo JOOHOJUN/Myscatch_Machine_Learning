{
 "cells": [
  {
   "cell_type": "code",
   "execution_count": 1,
   "metadata": {},
   "outputs": [],
   "source": [
    "from sklearn.feature_extraction.text import CountVectorizer\n",
    "from scipy.spatial.distance import cosine\n",
    "import glove"
   ]
  },
  {
   "cell_type": "code",
   "execution_count": 74,
   "metadata": {},
   "outputs": [],
   "source": [
    "wakati_file = 'toji.wakati'\n",
    "with open(\"./데이터//\"+wakati_file, 'r', encoding='UTF-8') as fp:\n",
    "    corpus = fp.readlines()"
   ]
  },
  {
   "cell_type": "markdown",
   "metadata": {},
   "source": [
    "공기행렬(Cooccurrence Matrix) 생성코드"
   ]
  },
  {
   "cell_type": "code",
   "execution_count": 75,
   "metadata": {},
   "outputs": [],
   "source": [
    "\n",
    "vectorizer = CountVectorizer(min_df = 10, ngram_range=(1,1))\n",
    "X = vectorizer.fit_transform(corpus)\n",
    "Xc = X.T * X\n",
    "Xc.setdiag(0)\n",
    "result = Xc.toarray()"
   ]
  },
  {
   "cell_type": "code",
   "execution_count": 76,
   "metadata": {},
   "outputs": [
    {
     "data": {
      "text/plain": [
       "<3439x661 sparse matrix of type '<class 'numpy.int64'>'\n",
       "\twith 21322 stored elements in Compressed Sparse Row format>"
      ]
     },
     "execution_count": 76,
     "metadata": {},
     "output_type": "execute_result"
    }
   ],
   "source": [
    "vectorizer.fit_transform(corpus)"
   ]
  },
  {
   "cell_type": "code",
   "execution_count": 77,
   "metadata": {},
   "outputs": [
    {
     "data": {
      "text/plain": [
       "<661x661 sparse matrix of type '<class 'numpy.int64'>'\n",
       "\twith 156359 stored elements in Compressed Sparse Column format>"
      ]
     },
     "execution_count": 77,
     "metadata": {},
     "output_type": "execute_result"
    }
   ],
   "source": [
    "vectorizer.fit_transform(corpus).T * vectorizer.fit_transform(corpus)"
   ]
  },
  {
   "cell_type": "code",
   "execution_count": 78,
   "metadata": {},
   "outputs": [],
   "source": [
    "dic = {}\n",
    "for idx1, word1 in enumerate(result):\n",
    "    tmpdic = {}\n",
    "    for idx2, word2 in enumerate(word1):\n",
    "        if word2 > 0:\n",
    "            tmpdic[idx2] = word2\n",
    "    dic[idx1] = tmpdic"
   ]
  },
  {
   "cell_type": "markdown",
   "metadata": {},
   "source": [
    "\"\"\"\n",
    "dic = { 0: { 0: 1.0,\n",
    "             2: 3.5 },\n",
    "        1: { 2: 0.5 },\n",
    "        2: { 0: 3.5,\n",
    "             1: 0.5,\n",
    "             2: 1.2 }\n",
    "      }\n",
    "\"\"\""
   ]
  },
  {
   "cell_type": "code",
   "execution_count": 85,
   "metadata": {},
   "outputs": [],
   "source": [
    "import operator\n",
    "vocab = sorted(vectorizer.vocabulary_.items(), key=operator.itemgetter(1))\n",
    "vocab = [word[0] for word in vocab]"
   ]
  },
  {
   "cell_type": "code",
   "execution_count": 86,
   "metadata": {},
   "outputs": [
    {
     "name": "stdout",
     "output_type": "stream",
     "text": [
      "661\n",
      "['가까이', '가깝다', '가끔', '가다', '가락지', '가문']\n"
     ]
    }
   ],
   "source": [
    "print(len(vocab))\n",
    "print(vocab[:6])"
   ]
  },
  {
   "cell_type": "code",
   "execution_count": 87,
   "metadata": {},
   "outputs": [
    {
     "name": "stdout",
     "output_type": "stream",
     "text": [
      "epoch 0, error 0.026\n",
      "epoch 5, error 0.013\n",
      "epoch 10, error 0.011\n",
      "epoch 15, error 0.010\n",
      "epoch 20, error 0.009\n"
     ]
    }
   ],
   "source": [
    "import glove\n",
    "model = glove.Glove(dic, d=100, alpha=0.75, x_max=100.0)\n",
    "for epoch in range(25):\n",
    "    err = model.train(batch_size=200, workers=4)\n",
    "    if not epoch % 5:\n",
    "        print(\"epoch %d, error %.3f\" % (epoch, err), flush=True)"
   ]
  },
  {
   "cell_type": "code",
   "execution_count": 88,
   "metadata": {},
   "outputs": [],
   "source": [
    "def most_similar(word, vocab, vecs, topn=10):\n",
    "    query = vecs[vocab.index(word)]\n",
    "    result = []\n",
    "    for idx, vec in enumerate(vecs):\n",
    "        if idx is not vocab.index(word):\n",
    "            result.append((vocab[idx],1-cosine(query,vec)))\n",
    "    result = sorted(result,key=lambda x: x[1],reverse=True)\n",
    "    return result[:topn]"
   ]
  },
  {
   "cell_type": "code",
   "execution_count": 89,
   "metadata": {},
   "outputs": [
    {
     "data": {
      "text/plain": [
       "[('흔들다', 0.9540346811468748),\n",
       " ('울리다', 0.953407736507298),\n",
       " ('마루', 0.9472240633891925),\n",
       " ('들리다', 0.9362093059635799),\n",
       " ('구석', 0.9337492783294976)]"
      ]
     },
     "execution_count": 89,
     "metadata": {},
     "output_type": "execute_result"
    }
   ],
   "source": [
    "word = '가까이'\n",
    "most_similar(word=word, vocab=vocab, vecs=model.W, topn=5)"
   ]
  },
  {
   "cell_type": "code",
   "execution_count": null,
   "metadata": {},
   "outputs": [],
   "source": []
  }
 ],
 "metadata": {
  "kernelspec": {
   "display_name": "Python 3",
   "language": "python",
   "name": "python3"
  },
  "language_info": {
   "codemirror_mode": {
    "name": "ipython",
    "version": 3
   },
   "file_extension": ".py",
   "mimetype": "text/x-python",
   "name": "python",
   "nbconvert_exporter": "python",
   "pygments_lexer": "ipython3",
   "version": "3.6.5"
  }
 },
 "nbformat": 4,
 "nbformat_minor": 2
}
