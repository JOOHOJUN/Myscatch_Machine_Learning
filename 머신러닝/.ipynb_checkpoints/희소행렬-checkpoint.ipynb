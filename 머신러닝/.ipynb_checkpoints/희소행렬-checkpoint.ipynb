{
 "cells": [
  {
   "cell_type": "code",
   "execution_count": 98,
   "metadata": {},
   "outputs": [],
   "source": [
    "from scipy import sparse\n",
    "import numpy as np\n",
    "import networkx as nx\n",
    "import pandas as pd\n",
    "기본경로=r\"C:/Users/user/Desktop/정상회담_트위터_분석/\""
   ]
  },
  {
   "cell_type": "code",
   "execution_count": 99,
   "metadata": {},
   "outputs": [],
   "source": [
    "#대상 ='27일'\n",
    "대상 ='28일'"
   ]
  },
  {
   "cell_type": "code",
   "execution_count": 100,
   "metadata": {
    "scrolled": true
   },
   "outputs": [
    {
     "data": {
      "text/html": [
       "<div>\n",
       "<style scoped>\n",
       "    .dataframe tbody tr th:only-of-type {\n",
       "        vertical-align: middle;\n",
       "    }\n",
       "\n",
       "    .dataframe tbody tr th {\n",
       "        vertical-align: top;\n",
       "    }\n",
       "\n",
       "    .dataframe thead th {\n",
       "        text-align: right;\n",
       "    }\n",
       "</style>\n",
       "<table border=\"1\" class=\"dataframe\">\n",
       "  <thead>\n",
       "    <tr style=\"text-align: right;\">\n",
       "      <th></th>\n",
       "      <th>원본인덱스</th>\n",
       "      <th>날짜</th>\n",
       "      <th>아이디</th>\n",
       "      <th>내용</th>\n",
       "      <th>좋아요</th>\n",
       "      <th>리트윗_원본텍스트</th>\n",
       "      <th>리트윗아이디들</th>\n",
       "      <th>언급아이디</th>\n",
       "      <th>발화자</th>\n",
       "      <th>수화자</th>\n",
       "    </tr>\n",
       "  </thead>\n",
       "  <tbody>\n",
       "    <tr>\n",
       "      <th>0</th>\n",
       "      <td>1_28</td>\n",
       "      <td>2018-04-28 23:59:52</td>\n",
       "      <td>silkcobra53</td>\n",
       "      <td>RT @kju7154: 남북 정상회담, 우리를 웃게 만든 비하인드 장면 3가지\\nh...</td>\n",
       "      <td>0</td>\n",
       "      <td>남북 정상회담, 우리를 웃게 만든 비하인드 장면 3가지\\nhttps://t.co/p...</td>\n",
       "      <td>RT @kju7154</td>\n",
       "      <td>NaN</td>\n",
       "      <td>kju7154</td>\n",
       "      <td>silkcobra53</td>\n",
       "    </tr>\n",
       "    <tr>\n",
       "      <th>1</th>\n",
       "      <td>2_28</td>\n",
       "      <td>2018-04-28 23:59:49</td>\n",
       "      <td>Tteure_Just</td>\n",
       "      <td>RT @d_itwalla0ws: 이번 정상회담 잘 풀린 거 너무 기쁜데 그거랑 별개...</td>\n",
       "      <td>0</td>\n",
       "      <td>이번 정상회담 잘 풀린 거 너무 기쁜데 그거랑 별개로 트위터 분위기가,,, 먼 김정...</td>\n",
       "      <td>RT @d_itwalla0ws</td>\n",
       "      <td>NaN</td>\n",
       "      <td>d_itwalla0ws</td>\n",
       "      <td>Tteure_Just</td>\n",
       "    </tr>\n",
       "    <tr>\n",
       "      <th>2</th>\n",
       "      <td>3_28</td>\n",
       "      <td>2018-04-28 23:59:49</td>\n",
       "      <td>D72BsfAM8FKUDlx</td>\n",
       "      <td>RT @toto8688: 북한기자들 큰 웃음 주고갔네 ㅋ&lt;f0&gt;&lt;U+009F&gt;&lt;U+...</td>\n",
       "      <td>0</td>\n",
       "      <td>북한기자들 큰 웃음 주고갔네 ㅋ&lt;f0&gt;&lt;U+009F&gt;&lt;U+0098&gt;&lt;U+008B&gt;&lt;...</td>\n",
       "      <td>RT @toto8688</td>\n",
       "      <td>NaN</td>\n",
       "      <td>toto8688</td>\n",
       "      <td>D72BsfAM8FKUDlx</td>\n",
       "    </tr>\n",
       "    <tr>\n",
       "      <th>3</th>\n",
       "      <td>4_28</td>\n",
       "      <td>2018-04-28 23:59:49</td>\n",
       "      <td>eunsu0521</td>\n",
       "      <td>RT @yonhaptweet: 로이터 \"트럼프, 북미정상회담 3~4주 내 개최 시사...</td>\n",
       "      <td>0</td>\n",
       "      <td>로이터 \"트럼프, 북미정상회담 3~4주 내 개최 시사\"(속보) https://t.c...</td>\n",
       "      <td>RT @yonhaptweet</td>\n",
       "      <td>NaN</td>\n",
       "      <td>yonhaptweet</td>\n",
       "      <td>eunsu0521</td>\n",
       "    </tr>\n",
       "    <tr>\n",
       "      <th>4</th>\n",
       "      <td>5_28</td>\n",
       "      <td>2018-04-28 23:59:47</td>\n",
       "      <td>BackToTheBasicc</td>\n",
       "      <td>RT @Schalom1004: ㅋㅋㅋㅋ\\n\\n정상회담 반대를 외치며려고 광장 나왔지...</td>\n",
       "      <td>0</td>\n",
       "      <td>ㅋㅋㅋㅋ\\n\\n정상회담 반대를 외치며려고 광장 나왔지만.재항군인회 5000명이 마음...</td>\n",
       "      <td>RT @Schalom1004</td>\n",
       "      <td>NaN</td>\n",
       "      <td>Schalom1004</td>\n",
       "      <td>BackToTheBasicc</td>\n",
       "    </tr>\n",
       "  </tbody>\n",
       "</table>\n",
       "</div>"
      ],
      "text/plain": [
       "  원본인덱스                   날짜              아이디  \\\n",
       "0  1_28  2018-04-28 23:59:52      silkcobra53   \n",
       "1  2_28  2018-04-28 23:59:49      Tteure_Just   \n",
       "2  3_28  2018-04-28 23:59:49  D72BsfAM8FKUDlx   \n",
       "3  4_28  2018-04-28 23:59:49        eunsu0521   \n",
       "4  5_28  2018-04-28 23:59:47  BackToTheBasicc   \n",
       "\n",
       "                                                  내용  좋아요  \\\n",
       "0  RT @kju7154: 남북 정상회담, 우리를 웃게 만든 비하인드 장면 3가지\\nh...    0   \n",
       "1  RT @d_itwalla0ws: 이번 정상회담 잘 풀린 거 너무 기쁜데 그거랑 별개...    0   \n",
       "2  RT @toto8688: 북한기자들 큰 웃음 주고갔네 ㅋ<f0><U+009F><U+...    0   \n",
       "3  RT @yonhaptweet: 로이터 \"트럼프, 북미정상회담 3~4주 내 개최 시사...    0   \n",
       "4  RT @Schalom1004: ㅋㅋㅋㅋ\\n\\n정상회담 반대를 외치며려고 광장 나왔지...    0   \n",
       "\n",
       "                                           리트윗_원본텍스트           리트윗아이디들 언급아이디  \\\n",
       "0  남북 정상회담, 우리를 웃게 만든 비하인드 장면 3가지\\nhttps://t.co/p...       RT @kju7154   NaN   \n",
       "1  이번 정상회담 잘 풀린 거 너무 기쁜데 그거랑 별개로 트위터 분위기가,,, 먼 김정...  RT @d_itwalla0ws   NaN   \n",
       "2  북한기자들 큰 웃음 주고갔네 ㅋ<f0><U+009F><U+0098><U+008B><...      RT @toto8688   NaN   \n",
       "3  로이터 \"트럼프, 북미정상회담 3~4주 내 개최 시사\"(속보) https://t.c...   RT @yonhaptweet   NaN   \n",
       "4  ㅋㅋㅋㅋ\\n\\n정상회담 반대를 외치며려고 광장 나왔지만.재항군인회 5000명이 마음...   RT @Schalom1004   NaN   \n",
       "\n",
       "            발화자              수화자  \n",
       "0       kju7154      silkcobra53  \n",
       "1  d_itwalla0ws      Tteure_Just  \n",
       "2      toto8688  D72BsfAM8FKUDlx  \n",
       "3   yonhaptweet        eunsu0521  \n",
       "4   Schalom1004  BackToTheBasicc  "
      ]
     },
     "execution_count": 100,
     "metadata": {},
     "output_type": "execute_result"
    }
   ],
   "source": [
    "정상회담_27일 = pd.read_excel(기본경로 + '데이터정제/3차정상회담/'+대상+'/'+대상+'_데이터.xlsx')\n",
    "정상회담_27일.head()"
   ]
  },
  {
   "cell_type": "code",
   "execution_count": 101,
   "metadata": {},
   "outputs": [
    {
     "data": {
      "text/plain": [
       "40300"
      ]
     },
     "execution_count": 101,
     "metadata": {},
     "output_type": "execute_result"
    }
   ],
   "source": [
    "정상회담_27일_모든노드 = 정상회담_27일.발화자.tolist()\n",
    "정상회담_27일_모든노드.extend(정상회담_27일.수화자.tolist())\n",
    "정상회담_27일_모든노드 =list(set(정상회담_27일_모든노드))[1:]\n",
    "노드수 = len(정상회담_27일_모든노드)\n",
    "노드수"
   ]
  },
  {
   "cell_type": "code",
   "execution_count": 102,
   "metadata": {},
   "outputs": [],
   "source": [
    "노드사전_번호키 = dict((count,노드) for count, 노드 in enumerate(정상회담_27일_모든노드))\n",
    "노드사전_이름키 = dict((노드,count) for count, 노드 in enumerate(정상회담_27일_모든노드))"
   ]
  },
  {
   "cell_type": "code",
   "execution_count": 103,
   "metadata": {},
   "outputs": [],
   "source": [
    "엣지리스트 = 정상회담_27일[['발화자','수화자']].copy()\n",
    "엣지리스트['발화자_사전'] = 엣지리스트.발화자.fillna('---').apply(lambda x : 노드사전_이름키[x] if x!='---' else None)\n",
    "엣지리스트['수화자_사전'] = 엣지리스트.수화자.fillna('---').apply(lambda x : 노드사전_이름키[x] if x!='---' else None)\n",
    "엣지리스트['값'] = 1"
   ]
  },
  {
   "cell_type": "code",
   "execution_count": 104,
   "metadata": {},
   "outputs": [
    {
     "data": {
      "text/html": [
       "<div>\n",
       "<style scoped>\n",
       "    .dataframe tbody tr th:only-of-type {\n",
       "        vertical-align: middle;\n",
       "    }\n",
       "\n",
       "    .dataframe tbody tr th {\n",
       "        vertical-align: top;\n",
       "    }\n",
       "\n",
       "    .dataframe thead th {\n",
       "        text-align: right;\n",
       "    }\n",
       "</style>\n",
       "<table border=\"1\" class=\"dataframe\">\n",
       "  <thead>\n",
       "    <tr style=\"text-align: right;\">\n",
       "      <th></th>\n",
       "      <th>발화자_사전</th>\n",
       "      <th>수화자_사전</th>\n",
       "      <th>값</th>\n",
       "    </tr>\n",
       "  </thead>\n",
       "  <tbody>\n",
       "    <tr>\n",
       "      <th>0</th>\n",
       "      <td>47</td>\n",
       "      <td>6676</td>\n",
       "      <td>1</td>\n",
       "    </tr>\n",
       "    <tr>\n",
       "      <th>1</th>\n",
       "      <td>47</td>\n",
       "      <td>18455</td>\n",
       "      <td>1</td>\n",
       "    </tr>\n",
       "    <tr>\n",
       "      <th>2</th>\n",
       "      <td>47</td>\n",
       "      <td>27634</td>\n",
       "      <td>1</td>\n",
       "    </tr>\n",
       "    <tr>\n",
       "      <th>3</th>\n",
       "      <td>47</td>\n",
       "      <td>31213</td>\n",
       "      <td>1</td>\n",
       "    </tr>\n",
       "    <tr>\n",
       "      <th>4</th>\n",
       "      <td>47</td>\n",
       "      <td>34070</td>\n",
       "      <td>1</td>\n",
       "    </tr>\n",
       "  </tbody>\n",
       "</table>\n",
       "</div>"
      ],
      "text/plain": [
       "   발화자_사전  수화자_사전  값\n",
       "0      47    6676  1\n",
       "1      47   18455  1\n",
       "2      47   27634  1\n",
       "3      47   31213  1\n",
       "4      47   34070  1"
      ]
     },
     "execution_count": 104,
     "metadata": {},
     "output_type": "execute_result"
    }
   ],
   "source": [
    "COO_매트릭스 =엣지리스트[['발화자_사전','수화자_사전','값']].groupby(['발화자_사전','수화자_사전']).count().reset_index().copy()\n",
    "COO_매트릭스 = COO_매트릭스.dropna()\n",
    "COO_매트릭스 = COO_매트릭스.astype(np.int64)\n",
    "COO_매트릭스.head()"
   ]
  },
  {
   "cell_type": "code",
   "execution_count": 105,
   "metadata": {},
   "outputs": [
    {
     "data": {
      "text/plain": [
       "<40300x40300 sparse matrix of type '<class 'numpy.uint8'>'\n",
       "\twith 0 stored elements in COOrdinate format>"
      ]
     },
     "execution_count": 105,
     "metadata": {},
     "output_type": "execute_result"
    }
   ],
   "source": [
    "S = sparse.coo_matrix((노드수, 노드수), dtype=np.uint8)\n",
    "S"
   ]
  },
  {
   "cell_type": "code",
   "execution_count": 106,
   "metadata": {},
   "outputs": [
    {
     "data": {
      "text/plain": [
       "<40300x40300 sparse matrix of type '<class 'numpy.int32'>'\n",
       "\twith 66705 stored elements in COOrdinate format>"
      ]
     },
     "execution_count": 106,
     "metadata": {},
     "output_type": "execute_result"
    }
   ],
   "source": [
    "S =sparse.coo_matrix((COO_매트릭스.값.tolist(), (COO_매트릭스.발화자_사전.tolist(), COO_매트릭스.수화자_사전.tolist())),shape=(노드수,노드수))\n",
    "S"
   ]
  },
  {
   "cell_type": "code",
   "execution_count": 107,
   "metadata": {},
   "outputs": [],
   "source": [
    "sparse.save_npz(기본경로+'데이터정제/3차정상회담/'+대상+'/'+대상+'_인접행렬.npz',S)"
   ]
  },
  {
   "cell_type": "code",
   "execution_count": 108,
   "metadata": {},
   "outputs": [],
   "source": [
    "G = nx.from_scipy_sparse_matrix(S,create_using=nx.DiGraph())"
   ]
  },
  {
   "cell_type": "code",
   "execution_count": 109,
   "metadata": {},
   "outputs": [
    {
     "name": "stdout",
     "output_type": "stream",
     "text": [
      "0\n",
      "0\n"
     ]
    }
   ],
   "source": [
    "#제대로 저장됐나 확인\n",
    "확인 = list(G.edges())\n",
    "대상 =엣지리스트[['발화자_사전','수화자_사전']].dropna().values.tolist()\n",
    "\n",
    "대상_튜플 = list()\n",
    "for i,j in 대상:\n",
    "    대상_튜플.append((i,j))\n",
    "print(len(set(확인) -set(대상_튜플)))\n",
    "print(len(set(대상_튜플)- set(확인)))"
   ]
  },
  {
   "cell_type": "markdown",
   "metadata": {},
   "source": [
    "총합"
   ]
  },
  {
   "cell_type": "code",
   "execution_count": 116,
   "metadata": {},
   "outputs": [
    {
     "data": {
      "text/html": [
       "<div>\n",
       "<style scoped>\n",
       "    .dataframe tbody tr th:only-of-type {\n",
       "        vertical-align: middle;\n",
       "    }\n",
       "\n",
       "    .dataframe tbody tr th {\n",
       "        vertical-align: top;\n",
       "    }\n",
       "\n",
       "    .dataframe thead th {\n",
       "        text-align: right;\n",
       "    }\n",
       "</style>\n",
       "<table border=\"1\" class=\"dataframe\">\n",
       "  <thead>\n",
       "    <tr style=\"text-align: right;\">\n",
       "      <th></th>\n",
       "      <th>원본인덱스</th>\n",
       "      <th>날짜</th>\n",
       "      <th>아이디</th>\n",
       "      <th>내용</th>\n",
       "      <th>좋아요</th>\n",
       "      <th>리트윗_원본텍스트</th>\n",
       "      <th>리트윗아이디들</th>\n",
       "      <th>언급아이디</th>\n",
       "      <th>발화자</th>\n",
       "      <th>수화자</th>\n",
       "    </tr>\n",
       "  </thead>\n",
       "  <tbody>\n",
       "    <tr>\n",
       "      <th>0</th>\n",
       "      <td>1_27</td>\n",
       "      <td>2018-04-27 23:59</td>\n",
       "      <td>frre_0328</td>\n",
       "      <td>RT @moonriver365: 오늘 판문점 평화의 집에서 김정은 국무위원장과 정상...</td>\n",
       "      <td>0</td>\n",
       "      <td>오늘 판문점 평화의 집에서 김정은 국무위원장과 정상회담을 갖고 판문점선언에 서명한 ...</td>\n",
       "      <td>RT @moonriver365</td>\n",
       "      <td>NaN</td>\n",
       "      <td>moonriver365</td>\n",
       "      <td>frre_0328</td>\n",
       "    </tr>\n",
       "    <tr>\n",
       "      <th>1</th>\n",
       "      <td>2_27</td>\n",
       "      <td>2018-04-27 23:59</td>\n",
       "      <td>DO___mnr12</td>\n",
       "      <td>RT @moonriver365: 오늘 판문점 평화의 집에서 김정은 국무위원장과 정상...</td>\n",
       "      <td>0</td>\n",
       "      <td>오늘 판문점 평화의 집에서 김정은 국무위원장과 정상회담을 갖고 판문점선언에 서명한 ...</td>\n",
       "      <td>RT @moonriver365</td>\n",
       "      <td>NaN</td>\n",
       "      <td>moonriver365</td>\n",
       "      <td>DO___mnr12</td>\n",
       "    </tr>\n",
       "    <tr>\n",
       "      <th>2</th>\n",
       "      <td>3_27</td>\n",
       "      <td>2018-04-27 23:59</td>\n",
       "      <td>3Yve1O3lzJ7isGk</td>\n",
       "      <td>RT @Bulloger: 4.27정상회담선언에 대한 미중러및 세계의 지지에 일본조차...</td>\n",
       "      <td>0</td>\n",
       "      <td>4.27정상회담선언에 대한 미중러및 세계의 지지에 일본조차 마지 못해 참여하는데 홍...</td>\n",
       "      <td>RT @Bulloger</td>\n",
       "      <td>NaN</td>\n",
       "      <td>Bulloger</td>\n",
       "      <td>3Yve1O3lzJ7isGk</td>\n",
       "    </tr>\n",
       "    <tr>\n",
       "      <th>3</th>\n",
       "      <td>4_27</td>\n",
       "      <td>2018-04-27 23:59</td>\n",
       "      <td>ltg2001</td>\n",
       "      <td>RT @s17221: 초라한 정상회담 반대 목소리, 지나가는 시민도 '외면'\\n h...</td>\n",
       "      <td>0</td>\n",
       "      <td>초라한 정상회담 반대 목소리, 지나가는 시민도 '외면'\\n https://t.co/...</td>\n",
       "      <td>RT @s17221</td>\n",
       "      <td>NaN</td>\n",
       "      <td>s17221</td>\n",
       "      <td>ltg2001</td>\n",
       "    </tr>\n",
       "    <tr>\n",
       "      <th>4</th>\n",
       "      <td>5_27</td>\n",
       "      <td>2018-04-27 23:59</td>\n",
       "      <td>daybreaksplit</td>\n",
       "      <td>RT @newstapa: \"미국도 한반도 분단의 책임이 있는데, 미국 언론은 강경파...</td>\n",
       "      <td>0</td>\n",
       "      <td>\"미국도 한반도 분단의 책임이 있는데, 미국 언론은 강경파만 취재한다\"\\n\\n이제 ...</td>\n",
       "      <td>RT @newstapa</td>\n",
       "      <td>NaN</td>\n",
       "      <td>newstapa</td>\n",
       "      <td>daybreaksplit</td>\n",
       "    </tr>\n",
       "  </tbody>\n",
       "</table>\n",
       "</div>"
      ],
      "text/plain": [
       "  원본인덱스                날짜              아이디  \\\n",
       "0  1_27  2018-04-27 23:59        frre_0328   \n",
       "1  2_27  2018-04-27 23:59       DO___mnr12   \n",
       "2  3_27  2018-04-27 23:59  3Yve1O3lzJ7isGk   \n",
       "3  4_27  2018-04-27 23:59          ltg2001   \n",
       "4  5_27  2018-04-27 23:59    daybreaksplit   \n",
       "\n",
       "                                                  내용  좋아요  \\\n",
       "0  RT @moonriver365: 오늘 판문점 평화의 집에서 김정은 국무위원장과 정상...    0   \n",
       "1  RT @moonriver365: 오늘 판문점 평화의 집에서 김정은 국무위원장과 정상...    0   \n",
       "2  RT @Bulloger: 4.27정상회담선언에 대한 미중러및 세계의 지지에 일본조차...    0   \n",
       "3  RT @s17221: 초라한 정상회담 반대 목소리, 지나가는 시민도 '외면'\\n h...    0   \n",
       "4  RT @newstapa: \"미국도 한반도 분단의 책임이 있는데, 미국 언론은 강경파...    0   \n",
       "\n",
       "                                           리트윗_원본텍스트           리트윗아이디들 언급아이디  \\\n",
       "0  오늘 판문점 평화의 집에서 김정은 국무위원장과 정상회담을 갖고 판문점선언에 서명한 ...  RT @moonriver365   NaN   \n",
       "1  오늘 판문점 평화의 집에서 김정은 국무위원장과 정상회담을 갖고 판문점선언에 서명한 ...  RT @moonriver365   NaN   \n",
       "2  4.27정상회담선언에 대한 미중러및 세계의 지지에 일본조차 마지 못해 참여하는데 홍...      RT @Bulloger   NaN   \n",
       "3  초라한 정상회담 반대 목소리, 지나가는 시민도 '외면'\\n https://t.co/...        RT @s17221   NaN   \n",
       "4  \"미국도 한반도 분단의 책임이 있는데, 미국 언론은 강경파만 취재한다\"\\n\\n이제 ...      RT @newstapa   NaN   \n",
       "\n",
       "            발화자              수화자  \n",
       "0  moonriver365        frre_0328  \n",
       "1  moonriver365       DO___mnr12  \n",
       "2      Bulloger  3Yve1O3lzJ7isGk  \n",
       "3        s17221          ltg2001  \n",
       "4      newstapa    daybreaksplit  "
      ]
     },
     "execution_count": 116,
     "metadata": {},
     "output_type": "execute_result"
    }
   ],
   "source": [
    "정상회담= pd.read_excel(기본경로 + '데이터정제/3차정상회담/총합/3차_총_데이터.xlsx')\n",
    "정상회담.head()"
   ]
  },
  {
   "cell_type": "code",
   "execution_count": 117,
   "metadata": {},
   "outputs": [
    {
     "data": {
      "text/plain": [
       "92555"
      ]
     },
     "execution_count": 117,
     "metadata": {},
     "output_type": "execute_result"
    }
   ],
   "source": [
    "정상회담_모든노드 = 정상회담.발화자.tolist()\n",
    "정상회담_모든노드.extend(정상회담.수화자.tolist())\n",
    "정상회담_모든노드 =list(set(정상회담_모든노드))[1:]\n",
    "노드수 = len(정상회담_모든노드)\n",
    "노드수"
   ]
  },
  {
   "cell_type": "code",
   "execution_count": 118,
   "metadata": {},
   "outputs": [],
   "source": [
    "노드사전_번호키 = dict((count,노드) for count, 노드 in enumerate(정상회담_모든노드))\n",
    "노드사전_이름키 = dict((노드,count) for count, 노드 in enumerate(정상회담_모든노드))"
   ]
  },
  {
   "cell_type": "code",
   "execution_count": 119,
   "metadata": {},
   "outputs": [],
   "source": [
    "엣지리스트 = 정상회담[['발화자','수화자']].copy()\n",
    "엣지리스트['발화자_사전'] = 엣지리스트.발화자.fillna('---').apply(lambda x : 노드사전_이름키[x] if x!='---' else None)\n",
    "엣지리스트['수화자_사전'] = 엣지리스트.수화자.fillna('---').apply(lambda x : 노드사전_이름키[x] if x!='---' else None)\n",
    "엣지리스트['값'] = 1"
   ]
  },
  {
   "cell_type": "code",
   "execution_count": 120,
   "metadata": {},
   "outputs": [
    {
     "data": {
      "text/html": [
       "<div>\n",
       "<style scoped>\n",
       "    .dataframe tbody tr th:only-of-type {\n",
       "        vertical-align: middle;\n",
       "    }\n",
       "\n",
       "    .dataframe tbody tr th {\n",
       "        vertical-align: top;\n",
       "    }\n",
       "\n",
       "    .dataframe thead th {\n",
       "        text-align: right;\n",
       "    }\n",
       "</style>\n",
       "<table border=\"1\" class=\"dataframe\">\n",
       "  <thead>\n",
       "    <tr style=\"text-align: right;\">\n",
       "      <th></th>\n",
       "      <th>발화자_사전</th>\n",
       "      <th>수화자_사전</th>\n",
       "      <th>값</th>\n",
       "    </tr>\n",
       "  </thead>\n",
       "  <tbody>\n",
       "    <tr>\n",
       "      <th>196022</th>\n",
       "      <td>92524</td>\n",
       "      <td>89724</td>\n",
       "      <td>32</td>\n",
       "    </tr>\n",
       "    <tr>\n",
       "      <th>155046</th>\n",
       "      <td>59307</td>\n",
       "      <td>46912</td>\n",
       "      <td>16</td>\n",
       "    </tr>\n",
       "    <tr>\n",
       "      <th>155595</th>\n",
       "      <td>59307</td>\n",
       "      <td>77115</td>\n",
       "      <td>13</td>\n",
       "    </tr>\n",
       "    <tr>\n",
       "      <th>104037</th>\n",
       "      <td>32463</td>\n",
       "      <td>61976</td>\n",
       "      <td>12</td>\n",
       "    </tr>\n",
       "    <tr>\n",
       "      <th>60204</th>\n",
       "      <td>13345</td>\n",
       "      <td>13345</td>\n",
       "      <td>12</td>\n",
       "    </tr>\n",
       "  </tbody>\n",
       "</table>\n",
       "</div>"
      ],
      "text/plain": [
       "        발화자_사전  수화자_사전   값\n",
       "196022   92524   89724  32\n",
       "155046   59307   46912  16\n",
       "155595   59307   77115  13\n",
       "104037   32463   61976  12\n",
       "60204    13345   13345  12"
      ]
     },
     "execution_count": 120,
     "metadata": {},
     "output_type": "execute_result"
    }
   ],
   "source": [
    "COO_매트릭스 =엣지리스트[['발화자_사전','수화자_사전','값']].groupby(['발화자_사전','수화자_사전']).count().reset_index().copy()\n",
    "COO_매트릭스 = COO_매트릭스.dropna()\n",
    "COO_매트릭스 = COO_매트릭스.astype(np.int64)\n",
    "COO_매트릭스.sort_values('값',ascending=False).head()"
   ]
  },
  {
   "cell_type": "code",
   "execution_count": 121,
   "metadata": {},
   "outputs": [
    {
     "data": {
      "text/plain": [
       "<92555x92555 sparse matrix of type '<class 'numpy.int32'>'\n",
       "\twith 0 stored elements in COOrdinate format>"
      ]
     },
     "execution_count": 121,
     "metadata": {},
     "output_type": "execute_result"
    }
   ],
   "source": [
    "S = sparse.coo_matrix((노드수, 노드수), dtype=np.int32)\n",
    "S"
   ]
  },
  {
   "cell_type": "code",
   "execution_count": 122,
   "metadata": {},
   "outputs": [
    {
     "data": {
      "text/plain": [
       "<92555x92555 sparse matrix of type '<class 'numpy.int32'>'\n",
       "\twith 196095 stored elements in COOrdinate format>"
      ]
     },
     "execution_count": 122,
     "metadata": {},
     "output_type": "execute_result"
    }
   ],
   "source": [
    "S =sparse.coo_matrix((COO_매트릭스.값.tolist(), (COO_매트릭스.발화자_사전.tolist(), COO_매트릭스.수화자_사전.tolist())),shape=(노드수,노드수))\n",
    "S"
   ]
  },
  {
   "cell_type": "code",
   "execution_count": 125,
   "metadata": {},
   "outputs": [],
   "source": [
    "sparse.save_npz(기본경로+'데이터정제/3차정상회담/총합/3차_총_인접행렬.npz',S)"
   ]
  },
  {
   "cell_type": "code",
   "execution_count": 126,
   "metadata": {},
   "outputs": [],
   "source": [
    "G = nx.from_scipy_sparse_matrix(S,create_using=nx.DiGraph())"
   ]
  },
  {
   "cell_type": "code",
   "execution_count": 127,
   "metadata": {},
   "outputs": [
    {
     "name": "stdout",
     "output_type": "stream",
     "text": [
      "0\n",
      "0\n"
     ]
    }
   ],
   "source": [
    "#제대로 저장됐나 확인\n",
    "확인 = list(G.edges())\n",
    "대상 =엣지리스트[['발화자_사전','수화자_사전']].dropna().astype(np.int32).values.tolist()\n",
    "\n",
    "대상_튜플 = list()\n",
    "for i,j in 대상:\n",
    "    대상_튜플.append((i,j))\n",
    "print(len(set(확인) -set(대상_튜플)))\n",
    "print(len(set(대상_튜플)- set(확인)))"
   ]
  },
  {
   "cell_type": "code",
   "execution_count": null,
   "metadata": {},
   "outputs": [],
   "source": []
  }
 ],
 "metadata": {
  "kernelspec": {
   "display_name": "Python 3",
   "language": "python",
   "name": "python3"
  },
  "language_info": {
   "codemirror_mode": {
    "name": "ipython",
    "version": 3
   },
   "file_extension": ".py",
   "mimetype": "text/x-python",
   "name": "python",
   "nbconvert_exporter": "python",
   "pygments_lexer": "ipython3",
   "version": "3.6.5"
  }
 },
 "nbformat": 4,
 "nbformat_minor": 2
}
