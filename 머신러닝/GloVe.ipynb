{
 "cells": [
  {
   "cell_type": "markdown",
   "metadata": {},
   "source": [
    "코드출처 : https://ratsgo.github.io/from%20frequency%20to%20semantics/2017/07/04/glove/"
   ]
  },
  {
   "cell_type": "code",
   "execution_count": 1,
   "metadata": {},
   "outputs": [],
   "source": [
    "from sklearn.feature_extraction.text import CountVectorizer\n",
    "from scipy.spatial.distance import cosine\n",
    "import glove"
   ]
  },
  {
   "cell_type": "code",
   "execution_count": 2,
   "metadata": {},
   "outputs": [],
   "source": [
    "wakati_file = 'toji.wakati'\n",
    "with open(\"./데이터//\"+wakati_file, 'r', encoding='UTF-8') as fp:\n",
    "    corpus = fp.readlines()"
   ]
  },
  {
   "cell_type": "markdown",
   "metadata": {},
   "source": [
    "### 공기행렬(Cooccurrence Matrix) 생성코드"
   ]
  },
  {
   "cell_type": "code",
   "execution_count": 3,
   "metadata": {},
   "outputs": [],
   "source": [
    "vectorizer = CountVectorizer(min_df = 10, ngram_range=(1,1))\n",
    "X = vectorizer.fit_transform(corpus)\n",
    "Xc = X.T * X\n",
    "Xc.setdiag(0)\n",
    "result = Xc.toarray()"
   ]
  },
  {
   "cell_type": "code",
   "execution_count": 4,
   "metadata": {},
   "outputs": [],
   "source": [
    "dic = {}\n",
    "for idx1, word1 in enumerate(result):\n",
    "    tmpdic = {}\n",
    "    for idx2, word2 in enumerate(word1):\n",
    "        if word2 > 0:\n",
    "            tmpdic[idx2] = word2\n",
    "    dic[idx1] = tmpdic"
   ]
  },
  {
   "cell_type": "code",
   "execution_count": 5,
   "metadata": {},
   "outputs": [],
   "source": [
    "import operator\n",
    "vocab = sorted(vectorizer.vocabulary_.items(), key=operator.itemgetter(1))\n",
    "vocab = [word[0] for word in vocab]"
   ]
  },
  {
   "cell_type": "code",
   "execution_count": 6,
   "metadata": {},
   "outputs": [
    {
     "name": "stdout",
     "output_type": "stream",
     "text": [
      "661\n",
      "['가까이', '가깝다', '가끔', '가다', '가락지', '가문']\n"
     ]
    }
   ],
   "source": [
    "print(len(vocab))\n",
    "print(vocab[:6])"
   ]
  },
  {
   "cell_type": "code",
   "execution_count": 7,
   "metadata": {},
   "outputs": [
    {
     "name": "stdout",
     "output_type": "stream",
     "text": [
      "문장갯수 : 3439\n",
      "단어갯수 : 661\n",
      "['\\n', '제 1 편 어둠 발 소리\\n', '서다 序\\n', '1897 년 한가위\\n', '까치 들 울타리 안 감나무 와 아침 인사 하다 전 무색 옷 댕기 꼬리 늘 아이 들 송편 입 물 마을 길 쏘다 기쁘다 날뛰다 어른 들 해 중천 좀 기울다 무렵 이 래야 차례 치르다 하다 성묘 하다 하다 이웃 끼리 음식 나누다 보다 한나절 넘다 이 때 타작 마당 사람 들 모이다 시작 하다 들다 뜨다 시작 하다 남정 노인 들 아낙 들 채비 아무래도 더 디어 데 그렇다 수 없다 것 식구 들 시중 음식 간수 끝내다 제 자신 치장 남아 있다 이 바람 고개 무겁다 벼 이삭 황금 빛 물결 이루다 들판 마음 놓다 새떼 들 모여들다 풍 성 향연 벌이다\\n']\n"
     ]
    }
   ],
   "source": [
    "#X = vectorizer.fit_transform(corpus)\n",
    "print(\"문장갯수 :\",len(corpus))\n",
    "print(\"단어갯수 :\", len(vectorizer.vocabulary_.items()))\n",
    "print(corpus[:5])"
   ]
  },
  {
   "cell_type": "code",
   "execution_count": 8,
   "metadata": {},
   "outputs": [
    {
     "data": {
      "text/plain": [
       "<3439x661 sparse matrix of type '<class 'numpy.int64'>'\n",
       "\twith 21322 stored elements in Compressed Sparse Row format>"
      ]
     },
     "execution_count": 8,
     "metadata": {},
     "output_type": "execute_result"
    }
   ],
   "source": [
    "#X = vectorizer.fit_transform(corpus)\n",
    "vectorizer.fit_transform(corpus)"
   ]
  },
  {
   "cell_type": "code",
   "execution_count": 9,
   "metadata": {},
   "outputs": [
    {
     "data": {
      "text/plain": [
       "<661x661 sparse matrix of type '<class 'numpy.int64'>'\n",
       "\twith 156359 stored elements in Compressed Sparse Column format>"
      ]
     },
     "execution_count": 9,
     "metadata": {},
     "output_type": "execute_result"
    }
   ],
   "source": [
    "#Xc = X.T * X\n",
    "vectorizer.fit_transform(corpus).T * vectorizer.fit_transform(corpus)"
   ]
  },
  {
   "cell_type": "code",
   "execution_count": 10,
   "metadata": {},
   "outputs": [
    {
     "data": {
      "text/html": [
       "<div>\n",
       "<style scoped>\n",
       "    .dataframe tbody tr th:only-of-type {\n",
       "        vertical-align: middle;\n",
       "    }\n",
       "\n",
       "    .dataframe tbody tr th {\n",
       "        vertical-align: top;\n",
       "    }\n",
       "\n",
       "    .dataframe thead th {\n",
       "        text-align: right;\n",
       "    }\n",
       "</style>\n",
       "<table border=\"1\" class=\"dataframe\">\n",
       "  <thead>\n",
       "    <tr style=\"text-align: right;\">\n",
       "      <th></th>\n",
       "      <th>가까이</th>\n",
       "      <th>가깝다</th>\n",
       "      <th>가끔</th>\n",
       "      <th>가다</th>\n",
       "      <th>가락지</th>\n",
       "      <th>가문</th>\n",
       "      <th>가배</th>\n",
       "      <th>가보다</th>\n",
       "      <th>가슴</th>\n",
       "      <th>가시</th>\n",
       "    </tr>\n",
       "  </thead>\n",
       "  <tbody>\n",
       "    <tr>\n",
       "      <th>가까이</th>\n",
       "      <td>0</td>\n",
       "      <td>0</td>\n",
       "      <td>0</td>\n",
       "      <td>10</td>\n",
       "      <td>0</td>\n",
       "      <td>0</td>\n",
       "      <td>0</td>\n",
       "      <td>0</td>\n",
       "      <td>0</td>\n",
       "      <td>0</td>\n",
       "    </tr>\n",
       "    <tr>\n",
       "      <th>가깝다</th>\n",
       "      <td>0</td>\n",
       "      <td>0</td>\n",
       "      <td>0</td>\n",
       "      <td>2</td>\n",
       "      <td>0</td>\n",
       "      <td>0</td>\n",
       "      <td>0</td>\n",
       "      <td>0</td>\n",
       "      <td>0</td>\n",
       "      <td>0</td>\n",
       "    </tr>\n",
       "    <tr>\n",
       "      <th>가끔</th>\n",
       "      <td>0</td>\n",
       "      <td>0</td>\n",
       "      <td>0</td>\n",
       "      <td>3</td>\n",
       "      <td>0</td>\n",
       "      <td>0</td>\n",
       "      <td>0</td>\n",
       "      <td>0</td>\n",
       "      <td>0</td>\n",
       "      <td>0</td>\n",
       "    </tr>\n",
       "    <tr>\n",
       "      <th>가다</th>\n",
       "      <td>10</td>\n",
       "      <td>2</td>\n",
       "      <td>3</td>\n",
       "      <td>0</td>\n",
       "      <td>2</td>\n",
       "      <td>2</td>\n",
       "      <td>4</td>\n",
       "      <td>9</td>\n",
       "      <td>3</td>\n",
       "      <td>5</td>\n",
       "    </tr>\n",
       "    <tr>\n",
       "      <th>가락지</th>\n",
       "      <td>0</td>\n",
       "      <td>0</td>\n",
       "      <td>0</td>\n",
       "      <td>2</td>\n",
       "      <td>0</td>\n",
       "      <td>0</td>\n",
       "      <td>0</td>\n",
       "      <td>0</td>\n",
       "      <td>0</td>\n",
       "      <td>0</td>\n",
       "    </tr>\n",
       "  </tbody>\n",
       "</table>\n",
       "</div>"
      ],
      "text/plain": [
       "     가까이  가깝다  가끔  가다  가락지  가문  가배  가보다  가슴  가시\n",
       "가까이    0    0   0  10    0   0   0    0   0   0\n",
       "가깝다    0    0   0   2    0   0   0    0   0   0\n",
       "가끔     0    0   0   3    0   0   0    0   0   0\n",
       "가다    10    2   3   0    2   2   4    9   3   5\n",
       "가락지    0    0   0   2    0   0   0    0   0   0"
      ]
     },
     "execution_count": 10,
     "metadata": {},
     "output_type": "execute_result"
    }
   ],
   "source": [
    "\"\"\"\n",
    "Xc.setdiag(0)\n",
    "\"\"\"\n",
    "import pandas as pd\n",
    "pd.DataFrame(Xc.toarray(),index=vocab,columns=vocab).iloc[:5,:10]"
   ]
  },
  {
   "cell_type": "markdown",
   "metadata": {},
   "source": [
    "### 학습시키기"
   ]
  },
  {
   "cell_type": "code",
   "execution_count": 11,
   "metadata": {},
   "outputs": [
    {
     "name": "stdout",
     "output_type": "stream",
     "text": [
      "epoch 0, error 0.026\n",
      "epoch 5, error 0.013\n",
      "epoch 10, error 0.011\n",
      "epoch 15, error 0.010\n",
      "epoch 20, error 0.009\n"
     ]
    }
   ],
   "source": [
    "import glove\n",
    "model = glove.Glove(dic, d=100, alpha=0.75, x_max=100.0)\n",
    "for epoch in range(25):\n",
    "    err = model.train(batch_size=200, workers=4)\n",
    "    if not epoch % 5:\n",
    "        print(\"epoch %d, error %.3f\" % (epoch, err), flush=True)"
   ]
  },
  {
   "cell_type": "code",
   "execution_count": 12,
   "metadata": {},
   "outputs": [],
   "source": [
    "def most_similar(word, vocab, vecs, topn=10):\n",
    "    query = vecs[vocab.index(word)]\n",
    "    result = []\n",
    "    for idx, vec in enumerate(vecs):\n",
    "        if idx is not vocab.index(word):\n",
    "            result.append((vocab[idx],1-cosine(query,vec)))\n",
    "    result = sorted(result,key=lambda x: x[1],reverse=True)\n",
    "    return result[:topn]"
   ]
  },
  {
   "cell_type": "code",
   "execution_count": 13,
   "metadata": {},
   "outputs": [
    {
     "data": {
      "text/plain": [
       "[('흔들다', 0.9549152167279664),\n",
       " ('울리다', 0.953473275166897),\n",
       " ('마루', 0.9468285727390756),\n",
       " ('들리다', 0.9370325760794095),\n",
       " ('구석', 0.9342243827472044)]"
      ]
     },
     "execution_count": 13,
     "metadata": {},
     "output_type": "execute_result"
    }
   ],
   "source": [
    "word = '가까이'\n",
    "most_similar(word=word, vocab=vocab, vecs=model.W, topn=5)"
   ]
  },
  {
   "cell_type": "code",
   "execution_count": 20,
   "metadata": {},
   "outputs": [
    {
     "data": {
      "text/plain": [
       "100"
      ]
     },
     "execution_count": 20,
     "metadata": {},
     "output_type": "execute_result"
    }
   ],
   "source": [
    "len(model.W[0])"
   ]
  },
  {
   "cell_type": "code",
   "execution_count": null,
   "metadata": {},
   "outputs": [],
   "source": []
  }
 ],
 "metadata": {
  "kernelspec": {
   "display_name": "Python 3",
   "language": "python",
   "name": "python3"
  },
  "language_info": {
   "codemirror_mode": {
    "name": "ipython",
    "version": 3
   },
   "file_extension": ".py",
   "mimetype": "text/x-python",
   "name": "python",
   "nbconvert_exporter": "python",
   "pygments_lexer": "ipython3",
   "version": "3.6.5"
  }
 },
 "nbformat": 4,
 "nbformat_minor": 2
}
