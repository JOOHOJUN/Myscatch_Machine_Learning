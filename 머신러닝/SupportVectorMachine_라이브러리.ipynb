{
 "cells": [
  {
   "cell_type": "markdown",
   "metadata": {},
   "source": [
    "쿠지라 히코우즈쿠,위키북스,파이썬을 이용한 머신러닝,딥러닝 실전 개발 입문, 150~197pp"
   ]
  },
  {
   "cell_type": "markdown",
   "metadata": {},
   "source": [
    "## 붓꽃 분류하기"
   ]
  },
  {
   "cell_type": "code",
   "execution_count": 1,
   "metadata": {},
   "outputs": [
    {
     "name": "stdout",
     "output_type": "stream",
     "text": [
      "train_data 형식:\n",
      "      SepalLength  SepalWidth  PetalLength  PetalWidth\n",
      "129          7.2         3.0          5.8         1.6\n",
      "101          5.8         2.7          5.1         1.9\n",
      "137          6.4         3.1          5.5         1.8 \n",
      "\n",
      "train_label 형식:\n",
      " 129    Iris-virginica\n",
      "101    Iris-virginica\n",
      "137    Iris-virginica\n",
      "Name: Name, dtype: object \n",
      "\n",
      "예언: \n",
      " ['Iris-virginica' 'Iris-setosa' 'Iris-setosa']\n",
      "\n",
      "정답률 = 0.9736842105263158\n"
     ]
    }
   ],
   "source": [
    "from sklearn.model_selection import train_test_split\n",
    "from sklearn import svm\n",
    "import pandas as pd\n",
    "from sklearn import metrics\n",
    "\n",
    "csv = pd.read_csv(open('C:/Users/user/1코드들/뉴스_알고리즘_기법들_공부/데이터/iris.csv'))\n",
    "\n",
    "csv_data = csv[[\"SepalLength\", \"SepalWidth\", \"PetalLength\", \"PetalWidth\"]]\n",
    "csv_label = csv[\"Name\"]\n",
    "\n",
    "#학습 데이터와 테스트 데이터 자동 분할\n",
    "train_data, test_data, train_label, test_label = train_test_split(csv_data, csv_label)\n",
    "\n",
    "clf = svm.SVC()\n",
    "clf.fit(train_data, train_label) #데이터 학습\n",
    "pre = clf.predict(test_data) #test_data로 test_label을 예언\n",
    "\n",
    "ac_score = metrics.accuracy_score(test_label, pre)\n",
    "print(\"train_data 형식:\\n\",train_data[:3], '\\n')\n",
    "print(\"train_label 형식:\\n\",train_label[:3], '\\n')\n",
    "print(\"예언: \\n\",pre[:3])\n",
    "print(\"\\n정답률 =\", ac_score)"
   ]
  },
  {
   "cell_type": "markdown",
   "metadata": {},
   "source": [
    "## 28*28픽셀 이미지학습"
   ]
  },
  {
   "cell_type": "code",
   "execution_count": 2,
   "metadata": {},
   "outputs": [
    {
     "name": "stdout",
     "output_type": "stream",
     "text": [
      "data[\"images\"] 형식 : [0.0, 0.0, ..., 0.0, 0.0] - 데이터길이:  784 (28*28픽셀)\n",
      "data[\"labels\"] 형식 : [0, 1, 2, 3, 4, 5, 6, 7, 8, 9] 중 하나의 숫자모음\n",
      "예언 : [7 5 1...]\n",
      "정답률 = 0.7884231536926147\n"
     ]
    }
   ],
   "source": [
    "from sklearn import model_selection, svm, metrics\n",
    "\n",
    "def load_csv(fname):\n",
    "    labels = []\n",
    "    images = []\n",
    "    with open(fname, \"r\") as f:\n",
    "        for line in f:\n",
    "            cols = line.split(\",\")\n",
    "            if len(cols) <2 : continue\n",
    "            labels.append(int(cols.pop(0)))\n",
    "            vals = list(map(lambda n: int(n) /256, cols))\n",
    "            images.append(vals)\n",
    "    return {\"labels\":labels, \"images\":images}\n",
    "\n",
    "data = load_csv(\"./데이터/train.csv\")\n",
    "test = load_csv(\"./데이터/t10k.csv\")\n",
    "\n",
    "clf = svm.SVC()\n",
    "clf.fit(data[\"images\"], data[\"labels\"])\n",
    "\n",
    "predict =clf.predict(test[\"images\"])\n",
    "\n",
    "ac_score = metrics.accuracy_score(test[\"labels\"], predict)\n",
    "cl_report = metrics.classification_report(test[\"labels\"], predict)\n",
    "\n",
    "print(\"data[\\\"images\\\"] 형식 : [0.0, 0.0, ..., 0.0, 0.0]\", \"- 데이터길이: \",len(data[\"images\"][0]), \"(28*28픽셀)\")\n",
    "print(\"data[\\\"labels\\\"] 형식 : [0, 1, 2, 3, 4, 5, 6, 7, 8, 9] 중 하나의 숫자모음\")\n",
    "print(\"예언 : [7 5 1...]\")\n",
    "print(\"정답률 =\", ac_score)"
   ]
  },
  {
   "cell_type": "code",
   "execution_count": 3,
   "metadata": {},
   "outputs": [
    {
     "data": {
      "text/html": [
       "<div>\n",
       "<style scoped>\n",
       "    .dataframe tbody tr th:only-of-type {\n",
       "        vertical-align: middle;\n",
       "    }\n",
       "\n",
       "    .dataframe tbody tr th {\n",
       "        vertical-align: top;\n",
       "    }\n",
       "\n",
       "    .dataframe thead th {\n",
       "        text-align: right;\n",
       "    }\n",
       "</style>\n",
       "<table border=\"1\" class=\"dataframe\">\n",
       "  <thead>\n",
       "    <tr style=\"text-align: right;\">\n",
       "      <th></th>\n",
       "      <th>첫번째</th>\n",
       "      <th>두번째</th>\n",
       "      <th>세번째</th>\n",
       "      <th>...</th>\n",
       "    </tr>\n",
       "  </thead>\n",
       "  <tbody>\n",
       "    <tr>\n",
       "      <th>데이터셋</th>\n",
       "      <td>28*28</td>\n",
       "      <td>28*28</td>\n",
       "      <td>28*28</td>\n",
       "      <td>...</td>\n",
       "    </tr>\n",
       "    <tr>\n",
       "      <th>실재</th>\n",
       "      <td>5</td>\n",
       "      <td>7</td>\n",
       "      <td>4</td>\n",
       "      <td>...</td>\n",
       "    </tr>\n",
       "    <tr>\n",
       "      <th>예언</th>\n",
       "      <td>5</td>\n",
       "      <td>7</td>\n",
       "      <td>2</td>\n",
       "      <td>...</td>\n",
       "    </tr>\n",
       "  </tbody>\n",
       "</table>\n",
       "</div>"
      ],
      "text/plain": [
       "        첫번째    두번째    세번째  ...\n",
       "데이터셋  28*28  28*28  28*28  ...\n",
       "실재        5      7      4  ...\n",
       "예언        5      7      2  ..."
      ]
     },
     "execution_count": 3,
     "metadata": {},
     "output_type": "execute_result"
    }
   ],
   "source": [
    "pd.DataFrame(data=[[\"28*28\",\"28*28\",\"28*28\", '...'],[5,7,4, '...'],[5,7,2, '...']],\n",
    "             columns = ['첫번째','두번째','세번째', '...'],index=['데이터셋','실재','예언'])"
   ]
  },
  {
   "cell_type": "markdown",
   "metadata": {},
   "source": [
    "## 비만도판별하기"
   ]
  },
  {
   "cell_type": "markdown",
   "metadata": {},
   "source": [
    "비만도 계산 - BMI\n",
    ">BMI = 몸무게(kg) % 키(m)^2"
   ]
  },
  {
   "cell_type": "code",
   "execution_count": 4,
   "metadata": {},
   "outputs": [
    {
     "name": "stdout",
     "output_type": "stream",
     "text": [
      "train_data 형식:\n",
      "        weight  height\n",
      "8557     0.55   0.775\n",
      "19804    0.44   0.730\n",
      "2820     0.47   0.620 \n",
      "\n",
      "train_label 형식:\n",
      " 8557     normal\n",
      "19804    normal\n",
      "2820        fat\n",
      "Name: label, dtype: object \n",
      "\n",
      "예언: \n",
      " ['Iris-virginica' 'Iris-setosa' 'Iris-setosa']\n",
      "\n",
      "정답률 = 0.7884231536926147\n"
     ]
    }
   ],
   "source": [
    "tbl = pd.read_csv(open(\"./데이터/bmi.csv\"))\n",
    "\n",
    "label = tbl.label\n",
    "w = tbl[\"weight\"] / 100\n",
    "h = tbl[\"height\"] / 200\n",
    "wh = pd.concat([w, h], axis =1)\n",
    "\n",
    "train_data, test_data, train_label, test_label = train_test_split(wh, label)\n",
    "\n",
    "clf = svm.SVC()\n",
    "clf.fit(train_data, train_label)\n",
    "\n",
    "predict = clf.predict(test_data)\n",
    "\n",
    "print(\"train_data 형식:\\n\",train_data[:3], '\\n')\n",
    "print(\"train_label 형식:\\n\",train_label[:3], '\\n')\n",
    "print(\"예언: \\n\",pre[:3])\n",
    "print(\"\\n정답률 =\", ac_score)"
   ]
  }
 ],
 "metadata": {
  "kernelspec": {
   "display_name": "Python 3",
   "language": "python",
   "name": "python3"
  },
  "language_info": {
   "codemirror_mode": {
    "name": "ipython",
    "version": 3
   },
   "file_extension": ".py",
   "mimetype": "text/x-python",
   "name": "python",
   "nbconvert_exporter": "python",
   "pygments_lexer": "ipython3",
   "version": "3.6.5"
  }
 },
 "nbformat": 4,
 "nbformat_minor": 2
}
