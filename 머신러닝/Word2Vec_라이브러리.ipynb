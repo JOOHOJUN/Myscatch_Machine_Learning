{
 "cells": [
  {
   "cell_type": "markdown",
   "metadata": {},
   "source": [
    "쿠지라 히코우즈쿠,위키북스,파이썬을 이용한 머신러닝,딥러닝 실전 개발 입문, 281~290pp"
   ]
  },
  {
   "cell_type": "markdown",
   "metadata": {},
   "source": [
    "### 토지"
   ]
  },
  {
   "cell_type": "code",
   "execution_count": 141,
   "metadata": {},
   "outputs": [
    {
     "name": "stdout",
     "output_type": "stream",
     "text": [
      "원본데이터:\n"
     ]
    },
    {
     "data": {
      "text/plain": [
       "['까치 들 울타리 안 감나무 와 아침 인사 하다 전 무색 옷 댕기 꼬리 늘 아이 들 송편 입 물 마을 길 쏘다 기쁘다 날뛰다 어른 들 해 중천 좀 기울다 무렵 이 래야 차례 치르다 하다 성묘 하다 하다 이웃 끼리 음식 나누다 보다 한나절 넘다 이 때 타작 마당 사람 들 모이다 시작 하다 들다 뜨다 시작 하다 남정 노인 들 아낙 들 채비 아무래도 더 디어 데 그렇다 수 없다 것 식구 들 시중 음식 간수 끝내다 제 자신 치장 남아 있다 이 바람 고개 무겁다 벼 이삭 황금 빛 물결 이루다 들판 마음 놓다 새떼 들 모여들다 풍 성 향연 벌이다\\n',\n",
       " '후우 이이 이 놈 새떼 들 극성 새 쫓다 할망구 와삭 와삭 풀발 선 출입 옷 갈아입다 타작 마당 굿 보고 있다 것 추석 마을 남녀 노유 사람 들 뿐 아니다 강아지 돼지 소나 말 새 들 시궁창 드나드 쥐 새끼 포식 날인 보다\\n']"
      ]
     },
     "execution_count": 141,
     "metadata": {},
     "output_type": "execute_result"
    }
   ],
   "source": [
    "from gensim.models import word2vec\n",
    "wakati_file = 'toji.wakati'\n",
    "# 파일 있는 장소를 넘겨 주어서 읽게한다.\n",
    "# 이때 파일은 문장단위(\\n)로 그대로 읽는다.\n",
    "data = word2vec.LineSentence(\"./데이터//\"+wakati_file)\n",
    "\n",
    "#size = 차원 수\n",
    "model = word2vec.Word2Vec(data, size=300, window=10, hs=1, min_count=2, sg=1)\n",
    "toji = open(\"./데이터//\"+wakati_file,'r',encoding='UTF-8').readlines()\n",
    "print('원본데이터:')\n",
    "toji[4:6]"
   ]
  },
  {
   "cell_type": "code",
   "execution_count": 142,
   "metadata": {},
   "outputs": [
    {
     "name": "stdout",
     "output_type": "stream",
     "text": [
      "차원길이: 300\n"
     ]
    },
    {
     "data": {
      "text/plain": [
       "array([ 0.01703488, -0.08118373,  0.01746968, -0.2333866 , -0.01860432,\n",
       "        0.09686361, -0.07168758, -0.03072292,  0.08790933, -0.09129421],\n",
       "      dtype=float32)"
      ]
     },
     "execution_count": 142,
     "metadata": {},
     "output_type": "execute_result"
    }
   ],
   "source": [
    "print(\"차원길이:\",len(model.wv['집']))\n",
    "model.wv['집'][:10]"
   ]
  },
  {
   "cell_type": "code",
   "execution_count": 143,
   "metadata": {},
   "outputs": [
    {
     "name": "stdout",
     "output_type": "stream",
     "text": [
      "단어갯수 : 4343개\n",
      "단어예시 : ['제', '1', '편', '어둠', '발', '소리', '서다', '년', '한가위', '까치']\n"
     ]
    }
   ],
   "source": [
    "print(\"단어갯수 :\",str(len(model.wv.vocab))+\"개\")\n",
    "print(\"단어예시 :\",list(model.wv.vocab.keys())[:10])"
   ]
  },
  {
   "cell_type": "code",
   "execution_count": 144,
   "metadata": {},
   "outputs": [
    {
     "name": "stdout",
     "output_type": "stream",
     "text": [
      "8144\n"
     ]
    }
   ],
   "source": [
    "#원데이터의 글자갯수\n",
    "vocab = list()\n",
    "for i in toji:\n",
    "    vocab.extend(i.replace(\"\\n\",'').split(' '))\n",
    "print(len(set(vocab)))"
   ]
  },
  {
   "cell_type": "code",
   "execution_count": 145,
   "metadata": {},
   "outputs": [
    {
     "data": {
      "text/plain": [
       "[('남정', 0.8252314925193787),\n",
       " ('그랬더니', 0.824586033821106),\n",
       " ('아비', 0.8211569786071777),\n",
       " ('노망', 0.8181959390640259),\n",
       " ('골다', 0.8105640411376953),\n",
       " ('소', 0.8072428703308105),\n",
       " ('둘째', 0.8070631623268127),\n",
       " ('지은', 0.8069068193435669),\n",
       " ('벌이', 0.8054234981536865),\n",
       " ('돌아가다', 0.8013038635253906)]"
      ]
     },
     "execution_count": 145,
     "metadata": {},
     "output_type": "execute_result"
    }
   ],
   "source": [
    "model.wv.most_similar(positive=\"집\")\n",
    "# (단어, 코사인유사도)"
   ]
  },
  {
   "cell_type": "markdown",
   "metadata": {},
   "source": [
    "### 위키피디아"
   ]
  },
  {
   "cell_type": "code",
   "execution_count": 11,
   "metadata": {},
   "outputs": [],
   "source": [
    "#시간 오래걸림\n",
    "\"\"\"\n",
    "from gensim.models import word2vec\n",
    "\n",
    "data = word2vec.Text8Corpus(\"./데이터/wiki.wakati\")\n",
    "model = word2vec.Word2Vec(data, size = 100)\n",
    "model.save(\"wiki.model\")\n",
    "\"\"\""
   ]
  },
  {
   "cell_type": "code",
   "execution_count": 10,
   "metadata": {},
   "outputs": [],
   "source": [
    "#모델 불러오기\n",
    "model = word2vec.Word2Vec.load('./데이터/wiki.model')"
   ]
  },
  {
   "cell_type": "code",
   "execution_count": 12,
   "metadata": {},
   "outputs": [
    {
     "data": {
      "text/plain": [
       "[('엄마', 0.8517739772796631),\n",
       " ('아저씨', 0.6820619106292725),\n",
       " ('어디가', 0.6796489357948303),\n",
       " ('친구', 0.6589521169662476),\n",
       " ('신혼', 0.6444262266159058),\n",
       " ('괴짜', 0.6426041722297668),\n",
       " ('할머니', 0.6371489763259888),\n",
       " ('아줌마', 0.6364408135414124),\n",
       " ('룸메이트', 0.6234321594238281),\n",
       " ('아내', 0.619864821434021)]"
      ]
     },
     "execution_count": 12,
     "metadata": {},
     "output_type": "execute_result"
    }
   ],
   "source": [
    "model.wv.most_similar(positive=[\"아빠\",\"여성\"], negative=[\"남성\"])"
   ]
  },
  {
   "cell_type": "code",
   "execution_count": 13,
   "metadata": {},
   "outputs": [
    {
     "data": {
      "text/plain": [
       "[('Perl', 0.921345591545105),\n",
       " ('Java', 0.906911313533783),\n",
       " ('Tcl', 0.905478835105896),\n",
       " ('MATLAB', 0.8736516237258911),\n",
       " ('Lisp', 0.8692713975906372),\n",
       " ('자바스크립트', 0.8669256567955017),\n",
       " ('하스켈', 0.8633924126625061),\n",
       " ('JSP', 0.8586524724960327),\n",
       " ('IDL', 0.8562409281730652),\n",
       " ('CLI', 0.8507612943649292)]"
      ]
     },
     "execution_count": 13,
     "metadata": {},
     "output_type": "execute_result"
    }
   ],
   "source": [
    "model.wv.most_similar(positive=[\"Python\",\"파이썬\"])"
   ]
  }
 ],
 "metadata": {
  "kernelspec": {
   "display_name": "Python 3",
   "language": "python",
   "name": "python3"
  },
  "language_info": {
   "codemirror_mode": {
    "name": "ipython",
    "version": 3
   },
   "file_extension": ".py",
   "mimetype": "text/x-python",
   "name": "python",
   "nbconvert_exporter": "python",
   "pygments_lexer": "ipython3",
   "version": "3.6.5"
  }
 },
 "nbformat": 4,
 "nbformat_minor": 2
}
