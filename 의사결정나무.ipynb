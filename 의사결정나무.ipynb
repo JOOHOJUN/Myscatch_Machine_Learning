{
 "cells": [
  {
   "cell_type": "markdown",
   "metadata": {},
   "source": [
    "조엘 그루스, 2016, 인사이트, '밑바닥부터 시작하는 데이터 과학'"
   ]
  },
  {
   "cell_type": "markdown",
   "metadata": {},
   "source": [
    "범주형 결과를 반환하는 분류나무 - classification tree<br>\n",
    "숫자형 결과를 반환하는 회귀나무 - regression tree"
   ]
  },
  {
   "cell_type": "code",
   "execution_count": 1,
   "metadata": {},
   "outputs": [],
   "source": [
    "from collections import Counter, defaultdict\n",
    "from functools import partial\n",
    "import math, random\n",
    "후보자_합격여부 = [\n",
    "        ({'level':'Senior','lang':'Java','tweets':'no','phd':'no'},   False),\n",
    "        ({'level':'Senior','lang':'Java','tweets':'no','phd':'yes'},  False),\n",
    "        ({'level':'Mid','lang':'Python','tweets':'no','phd':'no'},     True),\n",
    "        ({'level':'Junior','lang':'Python','tweets':'no','phd':'no'},  True),\n",
    "        ({'level':'Junior','lang':'R','tweets':'yes','phd':'no'},      True),\n",
    "        ({'level':'Junior','lang':'R','tweets':'yes','phd':'yes'},    False),\n",
    "        ({'level':'Mid','lang':'R','tweets':'yes','phd':'yes'},        True),\n",
    "        ({'level':'Senior','lang':'Python','tweets':'no','phd':'no'}, False),\n",
    "        ({'level':'Senior','lang':'R','tweets':'yes','phd':'no'},      True),\n",
    "        ({'level':'Junior','lang':'Python','tweets':'yes','phd':'no'}, True),\n",
    "        ({'level':'Senior','lang':'Python','tweets':'yes','phd':'yes'},True),\n",
    "        ({'level':'Mid','lang':'Python','tweets':'no','phd':'yes'},    True),\n",
    "        ({'level':'Mid','lang':'Java','tweets':'yes','phd':'no'},      True),\n",
    "        ({'level':'Junior','lang':'Python','tweets':'no','phd':'yes'},False)\n",
    "    ]"
   ]
  },
  {
   "cell_type": "markdown",
   "metadata": {},
   "source": [
    "### ID3알고리즘을 기반으로 분류나무 생성"
   ]
  },
  {
   "cell_type": "code",
   "execution_count": 2,
   "metadata": {},
   "outputs": [],
   "source": [
    "def class_probabilities(labels):\n",
    "    '''클래스(라벨)에 속할 확률'''\n",
    "    total_count = len(labels)\n",
    "    return [count / total_count\n",
    "            for count in Counter(labels).values()]\n",
    "\n",
    "#엔트로피 == 무질서도, 무질서도가 낮은 방향으로 파티션을 나눈다.\n",
    "def entropy(class_probabilities):\n",
    "    \"\"\"각 클래스에 속할 확률로부터의 각각의 엔트로피 총합\"\"\"\n",
    "    return sum(-p * math.log(p, 2) for p in class_probabilities if p)\n",
    "\n",
    "def data_entropy(labeled_data):\n",
    "    '''데이터 전체의 엔트로피 계산'''\n",
    "    labels = [label for _, label in labeled_data]\n",
    "    probabilities = class_probabilities(labels)\n",
    "    return entropy(probabilities)\n",
    "\n",
    "def partition_entropy(subsets):\n",
    "    \"\"\"각 파티션들로부터의 엔트로피 계산 후 총합\"\"\"\n",
    "    total_count = sum(len(subset) for subset in subsets)\n",
    "    return sum( data_entropy(subset) * len(subset) / total_count # 각 파티션의 엔트로피를 비율(파티션길이/전체)로 가중합한다. \n",
    "                for subset in subsets )"
   ]
  },
  {
   "cell_type": "code",
   "execution_count": 3,
   "metadata": {},
   "outputs": [],
   "source": [
    "def partition_by(inputs, attribute):\n",
    "    \"\"\"attribute에 따라 inputs의 파티션을 나눈다\"\"\"\n",
    "    groups = defaultdict(list)\n",
    "    for input_ in inputs:\n",
    "        key = input_[0][attribute] #attribute에 해당하는 각 데이터의 값을 가져오기\n",
    "        groups[key].append(input_) #데이터 값에 따른 데이터를 저장 - 파티션으로 나누는 것\n",
    "    return groups    \n",
    "\n",
    "def partition_entropy_by(inputs,attribute):\n",
    "    \"\"\"나눈 파티션으로 총 엔트로피 계산\"\"\"\n",
    "    partitions = partition_by(inputs, attribute)\n",
    "    return partition_entropy(partitions.values())    "
   ]
  },
  {
   "cell_type": "code",
   "execution_count": 4,
   "metadata": {},
   "outputs": [
    {
     "name": "stdout",
     "output_type": "stream",
     "text": [
      "level 0.6935361388961919\n",
      "lang 0.8601317128547441\n",
      "tweets 0.7884504573082896\n",
      "phd 0.8921589282623617\n"
     ]
    }
   ],
   "source": [
    "# 처음 분류할 때 level이 가장 엔트로피가 낫은 구분이다.\n",
    "for key in ['level','lang','tweets','phd']:\n",
    "    print(key, partition_entropy_by(후보자_합격여부, key))"
   ]
  },
  {
   "cell_type": "markdown",
   "metadata": {},
   "source": [
    "### 가장 낮은 엔트로피 Level로 파티션 나눈 예시\n",
    "\n",
    "{'Senior': \n",
    "<ul><li>[({'level': 'Senior', 'lang': 'Java', 'tweets': 'no', 'phd': 'no'},False),</li>\n",
    "    <li>({'level': 'Senior', 'lang': 'Java', 'tweets': 'no', 'phd': 'yes'}, False),<br></li>\n",
    "    <li>({'level': 'Senior', 'lang': 'Python', 'tweets': 'no', 'phd': 'no'}, False),<br></li>\n",
    "    <li>({'level': 'Senior', 'lang': 'R', 'tweets': 'yes', 'phd': 'no'}, True),<br></li>\n",
    "    <li>({'level': 'Senior', 'lang': 'Python', 'tweets': 'yes', 'phd': 'yes'},True)],<br></li></ul>\n",
    " 'Mid': \n",
    "<ul><li>[({'level': 'Mid', 'lang': 'Python', 'tweets': 'no', 'phd': 'no'},True),</li>\n",
    "    <li>({'level': 'Mid', 'lang': 'R', 'tweets': 'yes', 'phd': 'yes'}, True),</li>\n",
    "    <li>({'level': 'Mid', 'lang': 'Python', 'tweets': 'no', 'phd': 'yes'}, True),</li>\n",
    "    <li>({'level': 'Mid', 'lang': 'Java', 'tweets': 'yes', 'phd': 'no'}, True)],</li></ul>\n",
    " 'Junior': \n",
    "<ul><li>[({'level': 'Junior', 'lang': 'Python', 'tweets': 'no', 'phd': 'no'}, True),</li>\n",
    "    <li>({'level': 'Junior', 'lang': 'R', 'tweets': 'yes', 'phd': 'no'}, True),</li>\n",
    "    <li>({'level': 'Junior', 'lang': 'R', 'tweets': 'yes', 'phd': 'yes'}, False),</li>\n",
    "    <li>({'level': 'Junior', 'lang': 'Python', 'tweets': 'yes', 'phd': 'no'}, True),</li>\n",
    "    <li>({'level': 'Junior', 'lang': 'Python', 'tweets': 'no', 'phd': 'yes'}, False)]}</li>"
   ]
  },
  {
   "cell_type": "code",
   "execution_count": 5,
   "metadata": {},
   "outputs": [
    {
     "name": "stdout",
     "output_type": "stream",
     "text": [
      "\n",
      "Senior의 데이터에서 각 속성별 엔트로피\n",
      "lang 0.4\n",
      "tweets 0.0\n",
      "phd 0.9509775004326938\n",
      "\n",
      "Mid의 데이터에서 각 속성별 엔트로피\n",
      "lang 0.0\n",
      "tweets 0.0\n",
      "phd 0.0\n",
      "\n",
      "Junior의 데이터에서 각 속성별 엔트로피\n",
      "lang 0.9509775004326938\n",
      "tweets 0.9509775004326938\n",
      "phd 0.0\n"
     ]
    }
   ],
   "source": [
    "for attr in ['Senior','Mid','Junior']:\n",
    "    senior_inputs = [(input_, label) for input_, label in 후보자_합격여부 if input_[\"level\"] == attr]\n",
    "    print('\\n'+attr+\"의 데이터에서 각 속성별 엔트로피\")\n",
    "    for key in ['lang','tweets','phd']:\n",
    "        print(key, partition_entropy_by(senior_inputs, key))"
   ]
  },
  {
   "cell_type": "code",
   "execution_count": 6,
   "metadata": {},
   "outputs": [],
   "source": [
    "def build_tree_id3(inputs, split_candidates=None):\n",
    "    # 첫 분기라면 입력 데이터의 모든 변수가 분기 후보\n",
    "    if split_candidates is None:\n",
    "        # 'lang', 'tweets', 'phd', 'level' 모두 후보\n",
    "        split_candidates = inputs[0][0].keys()\n",
    "\n",
    "    # 입력 데이터에서 범주별 개수를 세어 본다\n",
    "    num_inputs = len(inputs)\n",
    "    num_class0 = len([label for _, label in inputs if label])\n",
    "    num_class1 = num_inputs - num_class0\n",
    "\n",
    "    # class0(true)이 하나도 없으면 False leaf 반환\n",
    "    if num_class0 == 0: return False\n",
    "    # class1(false)이 하나도 없으면 Ture leaf 반환\n",
    "    if num_class1 == 0: return True\n",
    "\n",
    "    # 파티션 기준으로 사용할 변수가 없다면\n",
    "    if not split_candidates:\n",
    "        # 다수결로 결정\n",
    "        # class0(true)가 많으면 true,\n",
    "        # class1(false)가 많으면 false 반환\n",
    "        return num_class0 >= num_class1\n",
    "\n",
    "    # 아니면 가장 적합한 변수를 기준으로 분기\n",
    "    best_attribute = min(split_candidates,\n",
    "                         key=partial(partition_entropy_by, inputs))\n",
    "    partitions = partition_by(inputs, best_attribute)\n",
    "    new_candidates = [a for a in split_candidates\n",
    "                      if a != best_attribute]\n",
    "\n",
    "    # 재귀적으로 서브트리를 구축\n",
    "    subtrees = { attribute_value : build_tree_id3(subset, new_candidates)\n",
    "                 for attribute_value, subset in partitions.items()}\n",
    "    # 기본값\n",
    "    subtrees[None] = num_class0 > num_class1 \n",
    "    return (best_attribute, subtrees)"
   ]
  },
  {
   "cell_type": "code",
   "execution_count": 7,
   "metadata": {},
   "outputs": [
    {
     "name": "stdout",
     "output_type": "stream",
     "text": [
      "('level', {'Senior': ('tweets', {'no': False, 'yes': True, None: False}), 'Mid': True, 'Junior': ('phd', {'no': True, 'yes': False, None: True}), None: True})\n"
     ]
    }
   ],
   "source": [
    "tree = build_tree_id3(후보자_합격여부)\n",
    "print(tree)"
   ]
  },
  {
   "cell_type": "markdown",
   "metadata": {},
   "source": [
    "('level', {'Senior': ('tweets', {'no': False, \n",
    "                                 'yes': True, \n",
    "                                 None: False}), \n",
    "           'Mid': True, \n",
    "           'Junior': ('phd', \n",
    "                     {'no': True, \n",
    "                      'yes': False, \n",
    "                      None: True}), \n",
    "                      None: True})"
   ]
  },
  {
   "cell_type": "code",
   "execution_count": 8,
   "metadata": {},
   "outputs": [],
   "source": [
    "def classify(tree, input):\n",
    "    \n",
    "    \"\"\"마지막이면 True 또는 False 반환\"\"\"\n",
    "    if tree in [True, False]:\n",
    "        return tree\n",
    "    \n",
    "    attribute, subtree_dict = tree\n",
    "    \n",
    "    subtree_key = input.get(attribute)  \n",
    "\n",
    "    if subtree_key not in subtree_dict: \n",
    "        subtree_key = None              \n",
    "    \n",
    "    subtree = subtree_dict[subtree_key] \n",
    "    return classify(subtree, input)     "
   ]
  },
  {
   "cell_type": "code",
   "execution_count": 9,
   "metadata": {},
   "outputs": [
    {
     "name": "stdout",
     "output_type": "stream",
     "text": [
      " Junior / Java / tweets / phd\n",
      " 결과: False\n"
     ]
    }
   ],
   "source": [
    "print(\" Junior / Java / tweets / phd\\n\", \\\n",
    "      \"결과:\",classify(tree, { \"level\" : \"Junior\", \"lang\" : \"Java\", \"tweets\" : \"yes\", \"phd\" : \"yes\"}))"
   ]
  },
  {
   "cell_type": "markdown",
   "metadata": {},
   "source": [
    "### 랜덤포레스트\n",
    "여러개의 의사결정나무를 만든 후 다수결로 결과 결정\n",
    ">1) 데이터를 bootstrap하여 랜덤성 부여<br>\n",
    ">2) 속성 선택의 랜덤화 : <br>\n",
    "         파티션을 나누는 속성을 랜덤으로 몇개만 한정한 뒤 그중에서 엔트로피 계산하여 선택한다"
   ]
  },
  {
   "cell_type": "markdown",
   "metadata": {},
   "source": [
    "부트스트랩 : 동일데이터에서 복원추출로 샘플링"
   ]
  },
  {
   "cell_type": "code",
   "execution_count": 10,
   "metadata": {},
   "outputs": [],
   "source": [
    "def bootstrap_sample(data):\n",
    "    \"\"\"randomly samples len(data) elements with replacement\"\"\"\n",
    "    return [random.choice(data) for _ in data]\n",
    "    \n",
    "def bootstrap_statistic(data, stats_fn, num_samples):\n",
    "    \"\"\"evaluates stats_fn on num_samples bootstrap samples from data\"\"\"\n",
    "    return [stats_fn(bootstrap_sample(data)) \n",
    "            for _ in range(num_samples)]"
   ]
  },
  {
   "cell_type": "code",
   "execution_count": 18,
   "metadata": {},
   "outputs": [],
   "source": [
    "def forest_classify(trees, input):\n",
    "    votes = [classify(tree, input) for tree in trees]\n",
    "    vote_counts = Counter(votes)\n",
    "    return vote_counts.most_common(1)[0][0]"
   ]
  },
  {
   "cell_type": "code",
   "execution_count": 19,
   "metadata": {},
   "outputs": [
    {
     "name": "stdout",
     "output_type": "stream",
     "text": [
      "다른 데이터다\n"
     ]
    }
   ],
   "source": [
    "일번데이터 = bootstrap_sample(후보자_합격여부)\n",
    "이번데이터 = bootstrap_sample(후보자_합격여부)\n",
    "print(\"같은 데이터다\" if 일번데이터 == 이번데이터 else \"다른 데이터다\")"
   ]
  },
  {
   "cell_type": "code",
   "execution_count": 20,
   "metadata": {},
   "outputs": [],
   "source": [
    "forest = list()\n",
    "for _ in range(5):\n",
    "    forest.append(build_tree_id3(bootstrap_sample(후보자_합격여부)))"
   ]
  },
  {
   "cell_type": "code",
   "execution_count": 21,
   "metadata": {},
   "outputs": [
    {
     "name": "stdout",
     "output_type": "stream",
     "text": [
      " Junior / Java / tweets / phd\n",
      " 결과: False\n"
     ]
    }
   ],
   "source": [
    "print(\" Junior / Java / tweets / phd\\n\", \\\n",
    "      \"결과:\", forest_classify(forest,  { \"level\" : \"Junior\", \"lang\" : \"Java\", \"tweets\" : \"yes\", \"phd\" : \"yes\"}))"
   ]
  },
  {
   "cell_type": "markdown",
   "metadata": {},
   "source": [
    "속성선택의 랜덤화"
   ]
  },
  {
   "cell_type": "code",
   "execution_count": 22,
   "metadata": {},
   "outputs": [],
   "source": [
    "def build_tree_of_forest(inputs, split_candidates=None):\n",
    "    num_split_candidates = 2\n",
    "    # 첫 분기라면 입력 데이터의 모든 변수가 분기 후보\n",
    "    if split_candidates is None:\n",
    "        # 'lang', 'tweets', 'phd', 'level' 모두 후보\n",
    "        split_candidates = inputs[0][0].keys()\n",
    "\n",
    "    # 입력 데이터에서 범주별 개수를 세어 본다\n",
    "    num_inputs = len(inputs)\n",
    "    num_class0 = len([label for _, label in inputs if label])\n",
    "    num_class1 = num_inputs - num_class0\n",
    "\n",
    "    # class0(true)이 하나도 없으면 False leaf 반환\n",
    "    if num_class0 == 0: return False\n",
    "    # class1(false)이 하나도 없으면 Ture leaf 반환\n",
    "    if num_class1 == 0: return True\n",
    "\n",
    "    # 파티션 기준으로 사용할 변수가 없다면\n",
    "    if not split_candidates:\n",
    "        # 다수결로 결정\n",
    "        # class0(true)가 많으면 true,\n",
    "        # class1(false)가 많으면 false 반환\n",
    "        return num_class0 >= num_class1\n",
    "    \n",
    "    if len(split_candidates) <= num_split_candidates:\n",
    "        sampled_split_candidates = split_candidates\n",
    "    else:\n",
    "        sampled_split_candidates = random.sample(split_candidates, num_split_candidates)\n",
    "\n",
    "    # 아니면 가장 적합한 변수를 기준으로 분기\n",
    "    best_attribute = min(sampled_split_candidates,\n",
    "                         key=partial(partition_entropy_by, inputs))\n",
    "    partitions = partition_by(inputs, best_attribute)\n",
    "    new_candidates = [a for a in split_candidates\n",
    "                      if a != best_attribute]\n",
    "\n",
    "    # 재귀적으로 서브트리를 구축\n",
    "    subtrees = { attribute_value : build_tree_of_forest(subset, new_candidates)\n",
    "                 for attribute_value, subset in partitions.items()}\n",
    "    # 기본값\n",
    "    subtrees[None] = num_class0 > num_class1 \n",
    "    return (best_attribute, subtrees)"
   ]
  },
  {
   "cell_type": "code",
   "execution_count": 23,
   "metadata": {},
   "outputs": [
    {
     "name": "stdout",
     "output_type": "stream",
     "text": [
      "다른 트리다\n"
     ]
    }
   ],
   "source": [
    "일번트리 = build_tree_of_forest(후보자_합격여부)\n",
    "이번트리 = build_tree_of_forest(후보자_합격여부)\n",
    "print(\"같은 트리다\" if 일번트리 == 이번트리 else \"다른 트리다\")"
   ]
  },
  {
   "cell_type": "code",
   "execution_count": 24,
   "metadata": {},
   "outputs": [],
   "source": [
    "forest_attr = list()\n",
    "for _ in range(5):\n",
    "    forest_attr.append(build_tree_of_forest(후보자_합격여부))"
   ]
  },
  {
   "cell_type": "code",
   "execution_count": 25,
   "metadata": {},
   "outputs": [
    {
     "name": "stdout",
     "output_type": "stream",
     "text": [
      " Junior / Java / tweets / phd\n",
      " 결과: False\n"
     ]
    }
   ],
   "source": [
    "print(\" Junior / Java / tweets / phd\\n\", \\\n",
    "      \"결과:\", forest_classify(forest_attr,  { \"level\" : \"Junior\", \"lang\" : \"Java\", \"tweets\" : \"yes\", \"phd\" : \"yes\"}))"
   ]
  }
 ],
 "metadata": {
  "kernelspec": {
   "display_name": "Python 3",
   "language": "python",
   "name": "python3"
  },
  "language_info": {
   "codemirror_mode": {
    "name": "ipython",
    "version": 3
   },
   "file_extension": ".py",
   "mimetype": "text/x-python",
   "name": "python",
   "nbconvert_exporter": "python",
   "pygments_lexer": "ipython3",
   "version": "3.6.5"
  }
 },
 "nbformat": 4,
 "nbformat_minor": 2
}
