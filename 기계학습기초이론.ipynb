{
 "cells": [
  {
   "cell_type": "markdown",
   "metadata": {},
   "source": [
    "조엘 그루스, 2016, 인사이트, '밑바닥부터 시작하는 데이터 과학'"
   ]
  },
  {
   "cell_type": "code",
   "execution_count": 3,
   "metadata": {},
   "outputs": [],
   "source": [
    "import random"
   ]
  },
  {
   "cell_type": "code",
   "execution_count": 1,
   "metadata": {},
   "outputs": [],
   "source": [
    "# 학습데이터와 테스트데이터 분할\n",
    "def split_data(data, prob):\n",
    "    results = [], []\n",
    "    for row in data:\n",
    "        results[0 if random.random() < prob else 1].append(row)\n",
    "    return results\n",
    "\n",
    "def train_test_split(x, y, test_pct):\n",
    "    data = list(zip(x, y))                       \n",
    "    train, test = split_data(data, 1 - test_pct) \n",
    "    x_train, y_train = list(zip(*train))          \n",
    "    x_test, y_test = list(zip(*test))\n",
    "    return x_train, x_test, y_train, y_test"
   ]
  },
  {
   "cell_type": "code",
   "execution_count": 12,
   "metadata": {},
   "outputs": [
    {
     "name": "stdout",
     "output_type": "stream",
     "text": [
      "총데이터 수 : 50\n",
      "학습데이터 : 33 \n",
      "데스트데이터 : 17\n"
     ]
    }
   ],
   "source": [
    "iris_data ={\n",
    "\"Sepal.Length\": [5.1,4.9,4.7,4.6,5,5.4,4.6,5,4.4,4.9,5.4,4.8,\n",
    "                 4.8,4.3,5.8,5.7,5.4,5.1,5.7,5.1,5.4,5.1,4.6,\n",
    "                 5.1,4.8,5,5,5.2,5.2,4.7,4.8,5.4,5.2,5.5,4.9,\n",
    "                 5,5.5,4.9,4.4,5.1,5,4.5,4.4,5,5.1,4.8,5.1,4.6,5.3,5], \n",
    "\"Sepal.Width\": [3.5,3,3.2,3.1,3.6,3.9,3.4,3.4,2.9,3.1,3.7,3.4,3,3,4,\n",
    "                4.4,3.9,3.5,3.8,3.8,3.4,3.7,3.6,3.3,3.4,3,3.4,3.5,\n",
    "                3.4,3.2,3.1,3.4,4.1,4.2,3.1,3.2,3.5,3.6,3,3.4,\n",
    "                3.5,2.3,3.2,3.5,3.8,3,3.8,3.2,3.7,3.3]\n",
    "}\n",
    "training_data,test_data =  split_data(iris_data[\"Sepal.Length\"], 0.66)\n",
    "print(\"총데이터 수 :\", len(iris_data['Sepal.Length']))\n",
    "print(\"학습데이터 :\",len(training_data),\"\\n데스트데이터 :\",len(test_data))"
   ]
  },
  {
   "cell_type": "markdown",
   "metadata": {},
   "source": [
    "#### 예시\n",
    "True / False -> 실재 스팸메일 여부<br>\n",
    "Positive / Negative -> 모델의 스팸메일분류 여부\n",
    "> True Positive (TP, 진양성) -> 실재 스팸메일이며 스팸메일로 분류함<br>\n",
    "> True Negative (TN, 진음성) -> 실재 스팸메일이며 스팸메일이 아닌 것으로 분류함<br>\n",
    "> False Positive (FP, 가양성) -> 실재 스팸메일이 아니지만 스팸메일로 분류함<br>\n",
    "> False Negative (TN, 가음성) -> 실재 스팸메일이 아니지만 스팸메일이 아닌 것으로 분류함<br>\n"
   ]
  },
  {
   "cell_type": "code",
   "execution_count": 13,
   "metadata": {},
   "outputs": [
    {
     "name": "stdout",
     "output_type": "stream",
     "text": [
      "accuracy(70, 4930, 13930, 981070) 0.98114\n",
      "precision(70, 4930, 13930, 981070) 0.014\n",
      "recall(70, 4930, 13930, 981070) 0.005\n",
      "f1_score(70, 4930, 13930, 981070) 0.00736842105263158\n"
     ]
    }
   ],
   "source": [
    "\"\"\"정확도 - 실재 스팸메일을 스팸메일로 분류하였는지 여부\"\"\"\n",
    "def accuracy(tp, fp, fn, tn):\n",
    "    correct = tp + tn\n",
    "    total = tp + fp + fn + tn\n",
    "    return correct / total\n",
    "\n",
    "\"\"\" 정밀도 - 스팸메일로 분류한 것 중 실재 스팸메일 비율\"\"\"\n",
    "def precision(tp, fp, fn, tn):\n",
    "    return tp / (tp + fp)\n",
    "\n",
    "\"\"\"재현율 - 정확하게 분류한 것 중에 진양성(TN)비율\"\"\"\n",
    "def recall(tp, fp, fn, tn):\n",
    "    return tp / (tp + fn)\n",
    "\n",
    "\"\"\"F1 점수 - 정밀도와 재현율의 조화평균\"\"\"\n",
    "def f1_score(tp, fp, fn, tn):\n",
    "    p = precision(tp, fp, fn, tn)\n",
    "    r = recall(tp, fp, fn, tn)\n",
    "\n",
    "    return 2 * p * r / (p + r)\n",
    "\n",
    "print(\"accuracy(70, 4930, 13930, 981070)\", accuracy(70, 4930, 13930, 981070))\n",
    "print(\"precision(70, 4930, 13930, 981070)\", precision(70, 4930, 13930, 981070))\n",
    "print(\"recall(70, 4930, 13930, 981070)\", recall(70, 4930, 13930, 981070))\n",
    "print(\"f1_score(70, 4930, 13930, 981070)\", f1_score(70, 4930, 13930, 981070))"
   ]
  }
 ],
 "metadata": {
  "kernelspec": {
   "display_name": "Python 3",
   "language": "python",
   "name": "python3"
  },
  "language_info": {
   "codemirror_mode": {
    "name": "ipython",
    "version": 3
   },
   "file_extension": ".py",
   "mimetype": "text/x-python",
   "name": "python",
   "nbconvert_exporter": "python",
   "pygments_lexer": "ipython3",
   "version": "3.6.5"
  }
 },
 "nbformat": 4,
 "nbformat_minor": 2
}
