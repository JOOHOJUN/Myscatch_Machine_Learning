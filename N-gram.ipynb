{
 "cells": [
  {
   "cell_type": "markdown",
   "metadata": {},
   "source": [
    "조엘 그루스, 2016, 인사이트, '밑바닥부터 시작하는 데이터 과학'"
   ]
  },
  {
   "cell_type": "code",
   "execution_count": 1,
   "metadata": {},
   "outputs": [],
   "source": [
    "from collections import defaultdict, Counter\n",
    "from bs4 import BeautifulSoup\n",
    "import requests"
   ]
  },
  {
   "cell_type": "code",
   "execution_count": 2,
   "metadata": {},
   "outputs": [
    {
     "name": "stdout",
     "output_type": "stream",
     "text": [
      "[\"We've\", 'all', 'heard']\n",
      "4990\n"
     ]
    }
   ],
   "source": [
    "#데이터가져오기\n",
    "def fix_unicode(text):\n",
    "    return text.replace(u\"\\u2019\",\"'\")\n",
    "from bs4 import BeautifulSoup\n",
    "import requests\n",
    "import re\n",
    "url = \"http://radar.oreilly.com/2010/06/what-is-data-science.html\"\n",
    "html = requests.get(url).text\n",
    "soup = BeautifulSoup(html, 'html.parser')\n",
    "content = soup.find(\"div\", \"article-body\")\n",
    "regex = r\"[\\w']+|[\\.]\"\n",
    "\n",
    "document = []\n",
    "\n",
    "\n",
    "for paragraph in content(\"p\"):\n",
    "    words = re.findall(regex, fix_unicode(paragraph.text))\n",
    "    document.extend(words)\n",
    "print(document[:3])\n",
    "print(len(document))"
   ]
  },
  {
   "cell_type": "markdown",
   "metadata": {},
   "source": [
    "### bi-gram"
   ]
  },
  {
   "cell_type": "code",
   "execution_count": 3,
   "metadata": {},
   "outputs": [],
   "source": [
    "from collections import defaultdict\n",
    "bigrams = zip(document, document[1:])\n",
    "transitions = defaultdict(list)\n",
    "for prev, current in bigrams:\n",
    "    transitions[prev].append(current)"
   ]
  },
  {
   "cell_type": "code",
   "execution_count": 4,
   "metadata": {},
   "outputs": [],
   "source": [
    "import random\n",
    "def generate_using_bigrams():\n",
    "    current = \".\"\n",
    "    result = []\n",
    "    while True:\n",
    "        next_word_candidates = transitions[current]\n",
    "        current = random.choice(next_word_candidates)\n",
    "        result.append(current)\n",
    "        if current ==\".\": return \" \".join(result)"
   ]
  },
  {
   "cell_type": "code",
   "execution_count": 5,
   "metadata": {},
   "outputs": [
    {
     "data": {
      "text/plain": [
       "'What differentiates data but how economies work with patience the discovery of about web has been instrumental in your searches correlates what those products are designed for and the missing points That joke that appears intractable .'"
      ]
     },
     "execution_count": 5,
     "metadata": {},
     "output_type": "execute_result"
    }
   ],
   "source": [
    "generate_using_bigrams()"
   ]
  },
  {
   "cell_type": "markdown",
   "metadata": {},
   "source": [
    "### tri-gram"
   ]
  },
  {
   "cell_type": "code",
   "execution_count": 6,
   "metadata": {},
   "outputs": [],
   "source": [
    "trigrams = zip(document, document[1:], document[2:])\n",
    "trigram_transitions = defaultdict(list)\n",
    "starts = []\n",
    "\n",
    "for prev, current, next in trigrams:\n",
    "    if prev == \".\":\n",
    "        starts.append(current)\n",
    "    trigram_transitions[(prev, current)].append(next)"
   ]
  },
  {
   "cell_type": "code",
   "execution_count": 7,
   "metadata": {},
   "outputs": [],
   "source": [
    "def generate_using_trigrams():\n",
    "    current = random.choice(starts)\n",
    "    prev = \".\"\n",
    "    result = [current]\n",
    "    while True:\n",
    "        next_word_candidates = trigram_transitions[(prev,current)]\n",
    "        next_word = random.choice(next_word_candidates)\n",
    "        \n",
    "        prev, current = current, next_word\n",
    "        result.append(current)\n",
    "        \n",
    "        if current == \".\":\n",
    "            return \" \".join(result)"
   ]
  },
  {
   "cell_type": "code",
   "execution_count": 8,
   "metadata": {},
   "outputs": [
    {
     "data": {
      "text/plain": [
       "'Traditional data analysis has been hampered by extremely long turn around times .'"
      ]
     },
     "execution_count": 8,
     "metadata": {},
     "output_type": "execute_result"
    }
   ],
   "source": [
    "generate_using_trigrams()"
   ]
  },
  {
   "cell_type": "markdown",
   "metadata": {},
   "source": [
    "쿠지라 히코우즈쿠,위키북스,파이썬을 이용한 머신러닝,딥러닝 실전 개발 입문, 312~314pp"
   ]
  },
  {
   "cell_type": "code",
   "execution_count": 9,
   "metadata": {},
   "outputs": [],
   "source": [
    "# num은 N으로, 기준 단어에서 몇 앞의 문자를 볼지 계산\n",
    "def ngram(s, num):\n",
    "    res = []\n",
    "    slen = len(s) - num + 1\n",
    "    for i in range(slen):\n",
    "        ss=s[i:i+num]\n",
    "        res.append(ss)\n",
    "    return res\n",
    "\n",
    "def diff_ngram(sa, sb, num):\n",
    "    a = ngram(sa, num)\n",
    "    b = ngram(sb, num)\n",
    "    r = []\n",
    "    cnt = 0\n",
    "    for i in a:\n",
    "        for j in b:\n",
    "            if i == j:\n",
    "                cnt += 1\n",
    "                r.append(i)\n",
    "    return cnt / len(a), r"
   ]
  },
  {
   "cell_type": "code",
   "execution_count": 10,
   "metadata": {},
   "outputs": [
    {
     "name": "stdout",
     "output_type": "stream",
     "text": [
      "2-gram: 0.7619047619047619\n",
      "['오늘', '강남', '남에', '에서', '서 ', ' 맛', '맛있', '는 ', ' 스', '스파', '파게', '게티', ' 먹', '먹었', '었다', '다.']\n",
      "3-gram: 0.45\n",
      "['강남에', '남에서', '에서 ', ' 맛있', ' 스파', '스파게', '파게티', ' 먹었', '었다.']\n"
     ]
    }
   ],
   "source": [
    "a = \"오늘 강남에서 맛있는 스파게티를 먹었다.\"\n",
    "b = \"강남에서 먹었던 오늘의 스파게티는 맛있었다.\"\n",
    "\n",
    "r2, word2 = diff_ngram(a, b, 2) # 2-gram\n",
    "print(\"2-gram:\", r2)\n",
    "print(word2)\n",
    "r3, word3 = diff_ngram(a, b, 3) # 3-gram\n",
    "print(\"3-gram:\", r3)\n",
    "print(word3)"
   ]
  },
  {
   "cell_type": "code",
   "execution_count": 11,
   "metadata": {},
   "outputs": [
    {
     "name": "stdout",
     "output_type": "stream",
     "text": [
      "2-gram: 0.75\n",
      "['머신', '신러', '러닝', ' 재', '재미', '미있', '있는', '는 ', ' 기', '기술', '술이', '이라', '라 ', '공부', '부하', '고 ', ' 있', '있습', '습니', '니다', '다.']\n",
      "3-gram: 0.6296296296296297\n",
      "['머신러', '신러닝', ' 재미', '재미있', '미있는', '있는 ', '는 기', ' 기술', '기술이', '술이라', '이라 ', '공부하', '고 있', ' 있습', '있습니', '습니다', '니다.']\n"
     ]
    }
   ],
   "source": [
    "\n",
    "a = \"머신러닝은 매우 재미있는 기술이라 공부하고 있습니다.\"\n",
    "b = \"공부하면 재미있는 기술이라 머신러닝을 배우고 있습니다.\"\n",
    "\n",
    "r2, word2 = diff_ngram(a, b, 2) # 2-gram\n",
    "print(\"2-gram:\", r2)\n",
    "print(word2)\n",
    "r3, word3 = diff_ngram(a, b, 3) # 3-gram\n",
    "print(\"3-gram:\", r3)\n",
    "print(word3)"
   ]
  }
 ],
 "metadata": {
  "kernelspec": {
   "display_name": "Python 3",
   "language": "python",
   "name": "python3"
  },
  "language_info": {
   "codemirror_mode": {
    "name": "ipython",
    "version": 3
   },
   "file_extension": ".py",
   "mimetype": "text/x-python",
   "name": "python",
   "nbconvert_exporter": "python",
   "pygments_lexer": "ipython3",
   "version": "3.6.5"
  }
 },
 "nbformat": 4,
 "nbformat_minor": 2
}
