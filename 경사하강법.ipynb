{
 "cells": [
  {
   "cell_type": "markdown",
   "metadata": {},
   "source": [
    "조엘 그루스, 2016, 인사이트, '밑바닥부터 시작하는 데이터 과학'"
   ]
  },
  {
   "cell_type": "markdown",
   "metadata": {},
   "source": [
    "최적화 문제 - 모델의 오류를 최소화, 우도(likelihood)를 최대화에 경사하강법 적용"
   ]
  },
  {
   "cell_type": "markdown",
   "metadata": {},
   "source": [
    "1) Y = X**2에서 Y가 가장 최소가 되는 지점은??"
   ]
  },
  {
   "cell_type": "code",
   "execution_count": 47,
   "metadata": {},
   "outputs": [],
   "source": [
    "from linear_algebra import distance, vector_subtract, scalar_multiply, vector_sum, magnitude\n",
    "from functools import partial, reduce\n",
    "import random\n",
    "import matplotlib.pyplot as plt"
   ]
  },
  {
   "cell_type": "code",
   "execution_count": 48,
   "metadata": {},
   "outputs": [],
   "source": [
    "def step(v, direction, step_size):\n",
    "    return [v_i + step_size * direction_i for v_i, direction_i in zip(v, direction)]"
   ]
  },
  {
   "cell_type": "code",
   "execution_count": 49,
   "metadata": {},
   "outputs": [],
   "source": [
    "def squares(v):\n",
    "    return [v_i**2 for v_i in v]\n",
    "# X**2 의 도함수 -> v의 기울기값 도출\n",
    "def sum_of_squares_gradient(v):\n",
    "    return [2 * v_i for v_i in v]"
   ]
  },
  {
   "cell_type": "code",
   "execution_count": 50,
   "metadata": {},
   "outputs": [],
   "source": [
    "#v = [random.randint(-2, 2) for i in range(1)] # 임의의 시작점\n",
    "v = [-10, 100]\n",
    "tolerance = 0.000001\n",
    "move_history = list()\n",
    "while True:\n",
    "    gradient = sum_of_squares_gradient(v)\n",
    "    next_v = step(v, gradient, -0.01)\n",
    "    move_history.extend(next_v)\n",
    "    if distance(next_v, v) < tolerance:\n",
    "        break\n",
    "    v = next_v"
   ]
  },
  {
   "cell_type": "code",
   "execution_count": 51,
   "metadata": {
    "scrolled": false
   },
   "outputs": [
    {
     "data": {
      "text/plain": [
       "[<matplotlib.lines.Line2D at 0x813ed30>]"
      ]
     },
     "execution_count": 51,
     "metadata": {},
     "output_type": "execute_result"
    },
    {
     "data": {
      "image/png": "[encoded data removed]",
      "text/plain": [
       "<Figure size 576x432 with 1 Axes>"
      ]
     },
     "metadata": {},
     "output_type": "display_data"
    }
   ],
   "source": [
    "x = [a for a in range(-10,10)]\n",
    "y = squares(x)\n",
    "plt.figure(figsize=(8,6))\n",
    "plt.plot(x,y)\n",
    "move_v =[move_history[i] for i in range(0,len(move_history), 50)][:len(x)]\n",
    "plt.plot(move_v,squares(move_v),'ro')"
   ]
  },
  {
   "cell_type": "markdown",
   "metadata": {},
   "source": [
    "# batch gradient descent"
   ]
  },
  {
   "cell_type": "code",
   "execution_count": 52,
   "metadata": {},
   "outputs": [],
   "source": [
    "def safe(f):\n",
    "    \"\"\"f에 오류가 발생하면 무한대를 반환\"\"\"\n",
    "    def safe_f(*args, **kwargs):\n",
    "        try:\n",
    "            return f(*args, **kwargs)\n",
    "        except:\n",
    "            return float('inf')         # this means \"infinity\" in Python\n",
    "    return safe_f"
   ]
  },
  {
   "cell_type": "code",
   "execution_count": 53,
   "metadata": {},
   "outputs": [],
   "source": [
    "def minimize_batch(target_fn, gradient_fn, theta_0, tolerance=0.000001):\n",
    "\n",
    "    theta = theta_0              # 시작점 초기화\n",
    "    target_fn = safe(target_fn)  # 오류발생 시 처리를 위한 작업\n",
    "    value = target_fn(theta)     # 초기화된 시작점을 대입하여 도출된 함수값\n",
    "\n",
    "    step_sizes = [100, 10, 1, 0.1, 0.01, 0.001, 0.0001, 0.00001]\n",
    "    while True:\n",
    "        gradient = gradient_fn(theta)                   \n",
    "        next_thetas = [step(theta, gradient, -step_size) \n",
    "                       for step_size in step_sizes]\n",
    " \n",
    "        next_theta = min(next_thetas, key=target_fn)\n",
    "        next_value = target_fn(next_theta)\n",
    "\n",
    "        if abs(value - next_value) < tolerance:\n",
    "            return theta                     #값 도출하는 지점 \n",
    "        else:\n",
    "            theta, value = next_theta, next_value"
   ]
  },
  {
   "cell_type": "code",
   "execution_count": 54,
   "metadata": {},
   "outputs": [],
   "source": [
    "def negate(f):\n",
    "    '''-f를 반환'''\n",
    "    return lambda *args, **kwargs: -f(*args, **kwargs)\n",
    "\n",
    "def negate_all(f):\n",
    "    '''f가 반환하는 모든 값을 음수로 변환'''\n",
    "    return lambda *args, **kwargs: [-y for y in f(*args, **kwargs)]\n",
    "\n",
    "def maximize_batch(target_fn, gradient_fn, theta_0, tolerance=0.000001):\n",
    "    return minimize_batch(negate(target_fn),\n",
    "                          negate_all(gradient_fn),\n",
    "                          theta_0,\n",
    "                          tolerance)"
   ]
  },
  {
   "cell_type": "markdown",
   "metadata": {},
   "source": [
    "# SGD(stochastic gradient descent)"
   ]
  },
  {
   "cell_type": "code",
   "execution_count": 55,
   "metadata": {},
   "outputs": [],
   "source": [
    "def in_random_order(data):\n",
    "    \"\"\"임의의 순서대로 data에서 하나의 데이터 반환\"\"\"\n",
    "    indexes = [i for i, _ in enumerate(data)]  \n",
    "    random.shuffle(indexes)                    \n",
    "    for i in indexes:                          \n",
    "        yield data[i]\n",
    "        \n",
    "def minimize_stochastic(target_fn, gradient_fn, x, y, theta_0, alpha_0=0.01):\n",
    "\n",
    "    data = list(zip(x, y))\n",
    "    theta = theta_0                             \n",
    "    alpha = alpha_0                             \n",
    "    min_theta, min_value = None, float(\"inf\")   \n",
    "    iterations_with_no_improvement = 0\n",
    "\n",
    "    while iterations_with_no_improvement < 100:\n",
    "        value = sum( target_fn(x_i, y_i, theta) for x_i, y_i in data )\n",
    "\n",
    "        if value < min_value:\n",
    "            min_theta, min_value = theta, value\n",
    "            iterations_with_no_improvement = 0\n",
    "            alpha = alpha_0\n",
    "        else:\n",
    "            iterations_with_no_improvement += 1\n",
    "            alpha *= 0.9\n",
    "            \n",
    "        for x_i, y_i in in_random_order(data): # data에서 무작위로 하나 뽑는다.\n",
    "            gradient_i = gradient_fn(x_i, y_i, theta)\n",
    "            theta = vector_subtract(theta, scalar_multiply(alpha, gradient_i))\n",
    "\n",
    "    return min_theta"
   ]
  },
  {
   "cell_type": "code",
   "execution_count": 56,
   "metadata": {},
   "outputs": [],
   "source": [
    "def maximize_stochastic(target_fn, gradient_fn, x, y, theta_0, alpha_0=0.01):\n",
    "    return minimize_stochastic(negate(target_fn),\n",
    "                               negate_all(gradient_fn),\n",
    "                               x, y, theta_0, alpha_0)"
   ]
  },
  {
   "cell_type": "markdown",
   "metadata": {},
   "source": [
    "# 예시 - 차원축소"
   ]
  },
  {
   "cell_type": "code",
   "execution_count": 57,
   "metadata": {},
   "outputs": [
    {
     "name": "stdout",
     "output_type": "stream",
     "text": [
      "데이터형태\n",
      " [[ 0.66637087  1.68694185]\n",
      " [ 2.471684   -5.08833963]\n",
      " [ 5.36840355  2.80514942]]\n"
     ]
    },
    {
     "data": {
      "image/png": "[encoded data removed]",
      "text/plain": [
       "<Figure size 432x288 with 1 Axes>"
      ]
     },
     "metadata": {},
     "output_type": "display_data"
    }
   ],
   "source": [
    "import numpy as np\n",
    "import matplotlib.pyplot as plt\n",
    "with open('./데이터/차원축소.txt') as f:\n",
    "    임시 = f.readline().split(',')\n",
    "    앞 = [float(임시[x]) for x in range(0,len(임시),2)]\n",
    "    뒤 = [float(임시[x]) for x in range(1,len(임시),2)]\n",
    "    np_X = np.array(list(zip(앞,뒤)))\n",
    "print(\"데이터형태\\n\",np_X[:3])\n",
    "plt.plot( np_X[:,0], np_X[:,1],\"ro\")\n",
    "plt.show()"
   ]
  },
  {
   "cell_type": "markdown",
   "metadata": {},
   "source": [
    "### 위 산포도에서 어떤 방향이 데이터의 편차를 가장 많이 잡아낼 수 있는가? "
   ]
  },
  {
   "cell_type": "markdown",
   "metadata": {},
   "source": [
    "크기1이면서 임의의 방향을 가리키는 벡터로 각 성분을 내적 -> 벡터의 크기를 제거하여 방향만 도출\n",
    "\n",
    "-> 방향을 기준으로 각 성분의 편차가 최대(==내적이 최대)가 되게하는 벡터를 찾는다"
   ]
  },
  {
   "cell_type": "code",
   "execution_count": 58,
   "metadata": {},
   "outputs": [],
   "source": [
    "# w벡터의 방향 도출\n",
    "def direction(w):\n",
    "    mag = magnitude(w)\n",
    "    return [w_i / mag for w_i in w]\n",
    "#데이터 하나의 편차\n",
    "def directional_variance_i(x_i, w):\n",
    "    return np.dot(x_i, direction(w)) ** 2\n",
    "#모든 데이터의 편차 총합\n",
    "def directional_variance(X, w):\n",
    "    return sum(directional_variance_i(x_i, w) for x_i in X)\n",
    "# 한 데이터의 편차 벡터화\n",
    "def directional_variance_gradient_i(x_i, w):\n",
    "    projection_length = np.dot(x_i, direction(w))\n",
    "    return [2 * projection_length * x_ij for x_ij in x_i]\n",
    "# 모든 데이터의 편차 총합의 벡터화\n",
    "def directional_variance_gradient(X, w):\n",
    "    return vector_sum(directional_variance_gradient_i(x_i,w) for x_i in X)\n",
    "\n",
    "def first_principal_component(X):\n",
    "    guess = [1 for _ in X[0]]\n",
    "    unscaled_maximizer = maximize_batch(\n",
    "        partial(directional_variance, X),           \n",
    "        partial(directional_variance_gradient, X),  \n",
    "        guess)\n",
    "    return direction(unscaled_maximizer)"
   ]
  },
  {
   "cell_type": "code",
   "execution_count": 59,
   "metadata": {},
   "outputs": [],
   "source": [
    "guess = [1 for _ in np_X[0]]\n",
    "unscaled_maximizer = maximize_batch(\n",
    "    partial(directional_variance, np_X),           \n",
    "    partial(directional_variance_gradient, np_X),  \n",
    "    guess)"
   ]
  },
  {
   "cell_type": "code",
   "execution_count": 60,
   "metadata": {},
   "outputs": [
    {
     "name": "stdout",
     "output_type": "stream",
     "text": [
      "편차총합(벡터) : [681698704.5221128, 282419191.9887005]\n",
      "방향만 도출    : [0.9238554090431896, 0.382741666377781]\n"
     ]
    }
   ],
   "source": [
    "print(\"편차총합(벡터) :\", unscaled_maximizer)\n",
    "print(\"방향만 도출    :\", direction(unscaled_maximizer))"
   ]
  },
  {
   "cell_type": "code",
   "execution_count": 62,
   "metadata": {},
   "outputs": [],
   "source": [
    "guess = [1 for _ in np_X[0]]\n",
    "unscaled_maximizer = maximize_stochastic(\n",
    "    lambda x, _, w: directional_variance_i(x, w),\n",
    "    lambda x, _, w: directional_variance_gradient_i(x, w),\n",
    "    np_X, [None for _ in np_X], guess)"
   ]
  },
  {
   "cell_type": "code",
   "execution_count": 63,
   "metadata": {},
   "outputs": [
    {
     "name": "stdout",
     "output_type": "stream",
     "text": [
      "편차총합(벡터) : [2688721.3388525206, 1113453.4573007699]\n",
      "방향만 도출    : [0.923910070424725, 0.3826096989985747]\n"
     ]
    }
   ],
   "source": [
    "print(\"편차총합(벡터) :\", unscaled_maximizer)\n",
    "print(\"방향만 도출    :\", direction(unscaled_maximizer))"
   ]
  }
 ],
 "metadata": {
  "kernelspec": {
   "display_name": "Python 3",
   "language": "python",
   "name": "python3"
  },
  "language_info": {
   "codemirror_mode": {
    "name": "ipython",
    "version": 3
   },
   "file_extension": ".py",
   "mimetype": "text/x-python",
   "name": "python",
   "nbconvert_exporter": "python",
   "pygments_lexer": "ipython3",
   "version": "3.6.5"
  }
 },
 "nbformat": 4,
 "nbformat_minor": 2
}
