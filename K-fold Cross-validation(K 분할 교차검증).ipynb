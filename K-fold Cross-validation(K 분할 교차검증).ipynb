{
 "cells": [
  {
   "cell_type": "markdown",
   "metadata": {},
   "source": [
    "쿠지라 히코우즈쿠,위키북스,파이썬을 이용한 머신러닝,딥러닝 실전 개발 입문, 198~203pp"
   ]
  },
  {
   "cell_type": "markdown",
   "metadata": {},
   "source": [
    "### K-fold Cross-validation\n",
    ":머신러닝 모델의 타당성을 검증하는 방법 중 하나<br>\n",
    "\n",
    "1) 집합 X를 A, B, C로 분할(K=3)<br>\n",
    "2) A: 테스트 데이터, B/C: 학습데이터 -> 정밀도 s1<br>\n",
    "3) B: 테스트 데이터, A/C: 학습데이터 -> 정밀도 s2<br>\n",
    "4) C: 테스트 데이터, A/B: 학습데이터 -> 정밀도 s3<br>\n",
    "5) 최종적으로 평균 정밀도를 구함: (s1+s2+s3)/3"
   ]
  },
  {
   "cell_type": "code",
   "execution_count": 2,
   "metadata": {},
   "outputs": [
    {
     "name": "stdout",
     "output_type": "stream",
     "text": [
      "각각 정밀도 = [0.96666667 1.         0.96666667 0.96666667 1.        ]\n",
      "평균 정밀도 = 0.9800000000000001\n"
     ]
    }
   ],
   "source": [
    "#라이브러리 이용\n",
    "from sklearn import model_selection\n",
    "import pandas as pd\n",
    "\n",
    "csv = pd.read_csv(open(\"./데이터/iris.csv\"))\n",
    "\n",
    "data = csv[[\"SepalLength\",\"SepalWidth\",\"PetalLength\",\"PetalWidth\"]]\n",
    "label = csv[\"Name\"]\n",
    "\n",
    "clf = svm.SVC()\n",
    "scores = model_selection.cross_val_score(estimator=clf, X=data, y=label,cv=5)\n",
    "print(\"각각 정밀도 =\", scores)\n",
    "print(\"평균 정밀도 =\", scores.mean())"
   ]
  },
  {
   "cell_type": "code",
   "execution_count": 1,
   "metadata": {},
   "outputs": [
    {
     "name": "stdout",
     "output_type": "stream",
     "text": [
      "각각의 정답률 = [0.9333333333333333, 1.0, 0.9333333333333333, 1.0, 1.0]\n",
      "평균 정답률 = 0.9733333333333334\n"
     ]
    }
   ],
   "source": [
    "import random, re\n",
    "from sklearn import svm, metrics\n",
    "\n",
    "\n",
    "def split_data_label(rows):\n",
    "    data = []; label =[]\n",
    "    for row in rows:\n",
    "        data.append(row[0:4])\n",
    "        label.append(row[4])\n",
    "    return (data, label)\n",
    "\n",
    "# 테스트와 학습 데이터 받아서 학습, 예측 후 정답률 반환\n",
    "def calc_score(test, train):\n",
    "    test_f, test_l = split_data_label(test)\n",
    "    train_f, train_l = split_data_label(train)\n",
    "    \n",
    "    clf = svm.SVC()\n",
    "    clf.fit(train_f, train_l)\n",
    "    pre = clf.predict(test_f)\n",
    "    return metrics.accuracy_score(test_l, pre)\n",
    "\n",
    "lines = open(\"./데이터/iris.csv\",\"r\",encoding='UTF-8').read().split(\"\\n\")\n",
    "f_tonum = lambda n: float(n) if re.match(r\"^[0-9\\.]+$\", n) else n\n",
    "f_cols = lambda li: list(map(f_tonum, li.strip().split(',')))\n",
    "csv = list(map(f_cols, lines))\n",
    "del csv[0]\n",
    "random.shuffle(csv)\n",
    "\n",
    "# 5개로 데이터 분할\n",
    "K =5\n",
    "csvk = [[] for i in range(K)]\n",
    "for i in range(len(csv)):\n",
    "    csvk[i%K].append(csv[i])\n",
    "\n",
    "# 각각 학습 후 정답률 반환\n",
    "# 돌아가면서, 1개는 테스트 데이터, 4개는 학습 데이터\n",
    "score_list = []\n",
    "for testc in csvk:\n",
    "    trainc =[]\n",
    "    for i in csvk:\n",
    "        if i != testc: \n",
    "            trainc += i\n",
    "    sc = calc_score(testc, trainc)\n",
    "    score_list.append(sc)\n",
    "print(\"각각의 정답률 =\", score_list)\n",
    "print(\"평균 정답률 =\", sum(score_list) / len(score_list))"
   ]
  }
 ],
 "metadata": {
  "kernelspec": {
   "display_name": "Python 3",
   "language": "python",
   "name": "python3"
  },
  "language_info": {
   "codemirror_mode": {
    "name": "ipython",
    "version": 3
   },
   "file_extension": ".py",
   "mimetype": "text/x-python",
   "name": "python",
   "nbconvert_exporter": "python",
   "pygments_lexer": "ipython3",
   "version": "3.6.5"
  }
 },
 "nbformat": 4,
 "nbformat_minor": 2
}
